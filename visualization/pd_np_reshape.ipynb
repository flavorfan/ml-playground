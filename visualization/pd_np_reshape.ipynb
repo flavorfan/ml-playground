{
 "cells": [
  {
   "cell_type": "code",
   "execution_count": 1,
   "metadata": {
    "ExecuteTime": {
     "end_time": "2020-06-01T00:46:05.277670Z",
     "start_time": "2020-06-01T00:46:04.915607Z"
    }
   },
   "outputs": [],
   "source": [
    "import pandas as pd"
   ]
  },
  {
   "cell_type": "markdown",
   "metadata": {},
   "source": [
    "# reshape with pivot_table(long to wide)"
   ]
  },
  {
   "cell_type": "markdown",
   "metadata": {},
   "source": [
    "![pandas_reshape](img/panda_reshape_pivot_table.png)"
   ]
  },
  {
   "cell_type": "markdown",
   "metadata": {},
   "source": [
    "*  https://towardsdatascience.com/reshape-pandas-dataframe-with-pivot-table-in-python-tutorial-and-visualization-2248c2012a31\n",
    "*  https://towardsdatascience.com/reshape-pandas-dataframe-with-melt-in-python-tutorial-and-visualization-29ec1450bb02\n",
    "*  https://beta.deepnote.com/project/d1350ad6-bcb4-4c3d-857b-c29d01b8a803#%2Fpivot_table.ipynb"
   ]
  },
  {
   "cell_type": "markdown",
   "metadata": {},
   "source": [
    "*  https://towardsdatascience.com/reshaping-numpy-arrays-in-python-a-step-by-step-pictorial-tutorial-aed5f471cf0b"
   ]
  },
  {
   "cell_type": "markdown",
   "metadata": {},
   "source": [
    "## create data\n",
    "deepnote\n",
    "\n",
    "https://beta.deepnote.com/project/d1350ad6-bcb4-4c3d-857b-c29d01b8a803#%2Fpivot_table.ipynb"
   ]
  },
  {
   "cell_type": "code",
   "execution_count": 2,
   "metadata": {
    "ExecuteTime": {
     "end_time": "2020-06-01T00:48:20.549099Z",
     "start_time": "2020-06-01T00:48:20.530114Z"
    }
   },
   "outputs": [],
   "source": [
    "df_long = pd.DataFrame({\n",
    "        \"student\":\n",
    "            [\"Andy\", \"Bernie\", \"Cindy\", \"Deb\",\n",
    "             \"Andy\", \"Bernie\", \"Cindy\", \"Deb\",\n",
    "             \"Andy\", \"Bernie\", \"Cindy\", \"Deb\"],\n",
    "        \"school\":\n",
    "            [\"Z\", \"Y\", \"Z\", \"Y\",\n",
    "             \"Z\", \"Y\", \"Z\", \"Y\",\n",
    "             \"Z\", \"Y\", \"Z\", \"Y\"],\n",
    "        \"class\":\n",
    "            [\"english\", \"english\", \"english\", \"english\",\n",
    "             \"math\", \"math\", \"math\", \"math\",\n",
    "             \"physics\", \"physics\", \"physics\", \"physics\"],\n",
    "        \"grade\":\n",
    "            [10, 100, 1000, 10000,\n",
    "             20, 200, 2000, 20000,\n",
    "             30, 300, 3000, 30000]\n",
    "})"
   ]
  },
  {
   "cell_type": "code",
   "execution_count": 3,
   "metadata": {
    "ExecuteTime": {
     "end_time": "2020-06-01T00:48:43.011924Z",
     "start_time": "2020-06-01T00:48:42.972174Z"
    }
   },
   "outputs": [
    {
     "data": {
      "text/html": [
       "<div>\n",
       "<style scoped>\n",
       "    .dataframe tbody tr th:only-of-type {\n",
       "        vertical-align: middle;\n",
       "    }\n",
       "\n",
       "    .dataframe tbody tr th {\n",
       "        vertical-align: top;\n",
       "    }\n",
       "\n",
       "    .dataframe thead th {\n",
       "        text-align: right;\n",
       "    }\n",
       "</style>\n",
       "<table border=\"1\" class=\"dataframe\">\n",
       "  <thead>\n",
       "    <tr style=\"text-align: right;\">\n",
       "      <th></th>\n",
       "      <th>student</th>\n",
       "      <th>school</th>\n",
       "      <th>class</th>\n",
       "      <th>grade</th>\n",
       "    </tr>\n",
       "  </thead>\n",
       "  <tbody>\n",
       "    <tr>\n",
       "      <td>0</td>\n",
       "      <td>Andy</td>\n",
       "      <td>Z</td>\n",
       "      <td>english</td>\n",
       "      <td>10</td>\n",
       "    </tr>\n",
       "    <tr>\n",
       "      <td>1</td>\n",
       "      <td>Bernie</td>\n",
       "      <td>Y</td>\n",
       "      <td>english</td>\n",
       "      <td>100</td>\n",
       "    </tr>\n",
       "    <tr>\n",
       "      <td>2</td>\n",
       "      <td>Cindy</td>\n",
       "      <td>Z</td>\n",
       "      <td>english</td>\n",
       "      <td>1000</td>\n",
       "    </tr>\n",
       "    <tr>\n",
       "      <td>3</td>\n",
       "      <td>Deb</td>\n",
       "      <td>Y</td>\n",
       "      <td>english</td>\n",
       "      <td>10000</td>\n",
       "    </tr>\n",
       "    <tr>\n",
       "      <td>4</td>\n",
       "      <td>Andy</td>\n",
       "      <td>Z</td>\n",
       "      <td>math</td>\n",
       "      <td>20</td>\n",
       "    </tr>\n",
       "    <tr>\n",
       "      <td>5</td>\n",
       "      <td>Bernie</td>\n",
       "      <td>Y</td>\n",
       "      <td>math</td>\n",
       "      <td>200</td>\n",
       "    </tr>\n",
       "    <tr>\n",
       "      <td>6</td>\n",
       "      <td>Cindy</td>\n",
       "      <td>Z</td>\n",
       "      <td>math</td>\n",
       "      <td>2000</td>\n",
       "    </tr>\n",
       "    <tr>\n",
       "      <td>7</td>\n",
       "      <td>Deb</td>\n",
       "      <td>Y</td>\n",
       "      <td>math</td>\n",
       "      <td>20000</td>\n",
       "    </tr>\n",
       "    <tr>\n",
       "      <td>8</td>\n",
       "      <td>Andy</td>\n",
       "      <td>Z</td>\n",
       "      <td>physics</td>\n",
       "      <td>30</td>\n",
       "    </tr>\n",
       "    <tr>\n",
       "      <td>9</td>\n",
       "      <td>Bernie</td>\n",
       "      <td>Y</td>\n",
       "      <td>physics</td>\n",
       "      <td>300</td>\n",
       "    </tr>\n",
       "    <tr>\n",
       "      <td>10</td>\n",
       "      <td>Cindy</td>\n",
       "      <td>Z</td>\n",
       "      <td>physics</td>\n",
       "      <td>3000</td>\n",
       "    </tr>\n",
       "    <tr>\n",
       "      <td>11</td>\n",
       "      <td>Deb</td>\n",
       "      <td>Y</td>\n",
       "      <td>physics</td>\n",
       "      <td>30000</td>\n",
       "    </tr>\n",
       "  </tbody>\n",
       "</table>\n",
       "</div>"
      ],
      "text/plain": [
       "   student school    class  grade\n",
       "0     Andy      Z  english     10\n",
       "1   Bernie      Y  english    100\n",
       "2    Cindy      Z  english   1000\n",
       "3      Deb      Y  english  10000\n",
       "4     Andy      Z     math     20\n",
       "5   Bernie      Y     math    200\n",
       "6    Cindy      Z     math   2000\n",
       "7      Deb      Y     math  20000\n",
       "8     Andy      Z  physics     30\n",
       "9   Bernie      Y  physics    300\n",
       "10   Cindy      Z  physics   3000\n",
       "11     Deb      Y  physics  30000"
      ]
     },
     "execution_count": 3,
     "metadata": {},
     "output_type": "execute_result"
    }
   ],
   "source": [
    "df_long.head(12)"
   ]
  },
  {
   "cell_type": "markdown",
   "metadata": {},
   "source": [
    "## Pivot example 1(columns, values)"
   ]
  },
  {
   "cell_type": "code",
   "execution_count": 5,
   "metadata": {
    "ExecuteTime": {
     "end_time": "2020-06-01T00:59:03.356236Z",
     "start_time": "2020-06-01T00:59:03.313501Z"
    }
   },
   "outputs": [
    {
     "data": {
      "text/html": [
       "<div>\n",
       "<style scoped>\n",
       "    .dataframe tbody tr th:only-of-type {\n",
       "        vertical-align: middle;\n",
       "    }\n",
       "\n",
       "    .dataframe tbody tr th {\n",
       "        vertical-align: top;\n",
       "    }\n",
       "\n",
       "    .dataframe thead th {\n",
       "        text-align: right;\n",
       "    }\n",
       "</style>\n",
       "<table border=\"1\" class=\"dataframe\">\n",
       "  <thead>\n",
       "    <tr style=\"text-align: right;\">\n",
       "      <th></th>\n",
       "      <th>class</th>\n",
       "      <th>english</th>\n",
       "      <th>math</th>\n",
       "      <th>physics</th>\n",
       "    </tr>\n",
       "    <tr>\n",
       "      <th>student</th>\n",
       "      <th>school</th>\n",
       "      <th></th>\n",
       "      <th></th>\n",
       "      <th></th>\n",
       "    </tr>\n",
       "  </thead>\n",
       "  <tbody>\n",
       "    <tr>\n",
       "      <td>Andy</td>\n",
       "      <td>Z</td>\n",
       "      <td>10</td>\n",
       "      <td>20</td>\n",
       "      <td>30</td>\n",
       "    </tr>\n",
       "    <tr>\n",
       "      <td>Bernie</td>\n",
       "      <td>Y</td>\n",
       "      <td>100</td>\n",
       "      <td>200</td>\n",
       "      <td>300</td>\n",
       "    </tr>\n",
       "    <tr>\n",
       "      <td>Cindy</td>\n",
       "      <td>Z</td>\n",
       "      <td>1000</td>\n",
       "      <td>2000</td>\n",
       "      <td>3000</td>\n",
       "    </tr>\n",
       "    <tr>\n",
       "      <td>Deb</td>\n",
       "      <td>Y</td>\n",
       "      <td>10000</td>\n",
       "      <td>20000</td>\n",
       "      <td>30000</td>\n",
       "    </tr>\n",
       "  </tbody>\n",
       "</table>\n",
       "</div>"
      ],
      "text/plain": [
       "class           english   math  physics\n",
       "student school                         \n",
       "Andy    Z            10     20       30\n",
       "Bernie  Y           100    200      300\n",
       "Cindy   Z          1000   2000     3000\n",
       "Deb     Y         10000  20000    30000"
      ]
     },
     "execution_count": 5,
     "metadata": {},
     "output_type": "execute_result"
    }
   ],
   "source": [
    "df_long.pivot_table(index=[\"student\", \"school\"], \n",
    "                    columns='class', \n",
    "                    values='grade')"
   ]
  },
  {
   "cell_type": "code",
   "execution_count": 6,
   "metadata": {
    "ExecuteTime": {
     "end_time": "2020-06-01T00:59:29.928314Z",
     "start_time": "2020-06-01T00:59:29.887878Z"
    }
   },
   "outputs": [
    {
     "data": {
      "text/html": [
       "<div>\n",
       "<style scoped>\n",
       "    .dataframe tbody tr th:only-of-type {\n",
       "        vertical-align: middle;\n",
       "    }\n",
       "\n",
       "    .dataframe tbody tr th {\n",
       "        vertical-align: top;\n",
       "    }\n",
       "\n",
       "    .dataframe thead th {\n",
       "        text-align: right;\n",
       "    }\n",
       "</style>\n",
       "<table border=\"1\" class=\"dataframe\">\n",
       "  <thead>\n",
       "    <tr style=\"text-align: right;\">\n",
       "      <th>class</th>\n",
       "      <th>student</th>\n",
       "      <th>school</th>\n",
       "      <th>english</th>\n",
       "      <th>math</th>\n",
       "      <th>physics</th>\n",
       "    </tr>\n",
       "  </thead>\n",
       "  <tbody>\n",
       "    <tr>\n",
       "      <td>0</td>\n",
       "      <td>Andy</td>\n",
       "      <td>Z</td>\n",
       "      <td>10</td>\n",
       "      <td>20</td>\n",
       "      <td>30</td>\n",
       "    </tr>\n",
       "    <tr>\n",
       "      <td>1</td>\n",
       "      <td>Bernie</td>\n",
       "      <td>Y</td>\n",
       "      <td>100</td>\n",
       "      <td>200</td>\n",
       "      <td>300</td>\n",
       "    </tr>\n",
       "    <tr>\n",
       "      <td>2</td>\n",
       "      <td>Cindy</td>\n",
       "      <td>Z</td>\n",
       "      <td>1000</td>\n",
       "      <td>2000</td>\n",
       "      <td>3000</td>\n",
       "    </tr>\n",
       "    <tr>\n",
       "      <td>3</td>\n",
       "      <td>Deb</td>\n",
       "      <td>Y</td>\n",
       "      <td>10000</td>\n",
       "      <td>20000</td>\n",
       "      <td>30000</td>\n",
       "    </tr>\n",
       "  </tbody>\n",
       "</table>\n",
       "</div>"
      ],
      "text/plain": [
       "class student school  english   math  physics\n",
       "0        Andy      Z       10     20       30\n",
       "1      Bernie      Y      100    200      300\n",
       "2       Cindy      Z     1000   2000     3000\n",
       "3         Deb      Y    10000  20000    30000"
      ]
     },
     "execution_count": 6,
     "metadata": {},
     "output_type": "execute_result"
    }
   ],
   "source": [
    "df_long.pivot_table(index=[\"student\", \"school\"], \n",
    "                    columns='class', \n",
    "                    values='grade').reset_index()"
   ]
  },
  {
   "cell_type": "markdown",
   "metadata": {},
   "source": [
    "## Pivot Example 2(margines = True )"
   ]
  },
  {
   "cell_type": "code",
   "execution_count": 7,
   "metadata": {
    "ExecuteTime": {
     "end_time": "2020-06-01T01:01:27.063722Z",
     "start_time": "2020-06-01T01:01:26.988132Z"
    }
   },
   "outputs": [
    {
     "data": {
      "text/html": [
       "<div>\n",
       "<style scoped>\n",
       "    .dataframe tbody tr th:only-of-type {\n",
       "        vertical-align: middle;\n",
       "    }\n",
       "\n",
       "    .dataframe tbody tr th {\n",
       "        vertical-align: top;\n",
       "    }\n",
       "\n",
       "    .dataframe thead th {\n",
       "        text-align: right;\n",
       "    }\n",
       "</style>\n",
       "<table border=\"1\" class=\"dataframe\">\n",
       "  <thead>\n",
       "    <tr style=\"text-align: right;\">\n",
       "      <th>class</th>\n",
       "      <th>student</th>\n",
       "      <th>school</th>\n",
       "      <th>english</th>\n",
       "      <th>math</th>\n",
       "      <th>physics</th>\n",
       "      <th>All</th>\n",
       "    </tr>\n",
       "  </thead>\n",
       "  <tbody>\n",
       "    <tr>\n",
       "      <td>0</td>\n",
       "      <td>Andy</td>\n",
       "      <td>Z</td>\n",
       "      <td>10</td>\n",
       "      <td>20</td>\n",
       "      <td>30</td>\n",
       "      <td>60</td>\n",
       "    </tr>\n",
       "    <tr>\n",
       "      <td>1</td>\n",
       "      <td>Bernie</td>\n",
       "      <td>Y</td>\n",
       "      <td>100</td>\n",
       "      <td>200</td>\n",
       "      <td>300</td>\n",
       "      <td>600</td>\n",
       "    </tr>\n",
       "    <tr>\n",
       "      <td>2</td>\n",
       "      <td>Cindy</td>\n",
       "      <td>Z</td>\n",
       "      <td>1000</td>\n",
       "      <td>2000</td>\n",
       "      <td>3000</td>\n",
       "      <td>6000</td>\n",
       "    </tr>\n",
       "    <tr>\n",
       "      <td>3</td>\n",
       "      <td>Deb</td>\n",
       "      <td>Y</td>\n",
       "      <td>10000</td>\n",
       "      <td>20000</td>\n",
       "      <td>30000</td>\n",
       "      <td>60000</td>\n",
       "    </tr>\n",
       "    <tr>\n",
       "      <td>4</td>\n",
       "      <td>All</td>\n",
       "      <td></td>\n",
       "      <td>11110</td>\n",
       "      <td>22220</td>\n",
       "      <td>33330</td>\n",
       "      <td>66660</td>\n",
       "    </tr>\n",
       "  </tbody>\n",
       "</table>\n",
       "</div>"
      ],
      "text/plain": [
       "class student school  english   math  physics    All\n",
       "0        Andy      Z       10     20       30     60\n",
       "1      Bernie      Y      100    200      300    600\n",
       "2       Cindy      Z     1000   2000     3000   6000\n",
       "3         Deb      Y    10000  20000    30000  60000\n",
       "4         All           11110  22220    33330  66660"
      ]
     },
     "execution_count": 7,
     "metadata": {},
     "output_type": "execute_result"
    }
   ],
   "source": [
    "df_long.pivot_table(index=[\"student\", \"school\"], \n",
    "                    columns='class', \n",
    "                    values='grade',\n",
    "                    margins=True,\n",
    "                    aggfunc='sum').reset_index()"
   ]
  },
  {
   "cell_type": "markdown",
   "metadata": {},
   "source": [
    "## Pivot example 3 ( vs groupby, aggfunc)\n"
   ]
  },
  {
   "cell_type": "code",
   "execution_count": 8,
   "metadata": {
    "ExecuteTime": {
     "end_time": "2020-06-01T01:02:53.854213Z",
     "start_time": "2020-06-01T01:02:53.816627Z"
    }
   },
   "outputs": [
    {
     "data": {
      "text/html": [
       "<div>\n",
       "<style scoped>\n",
       "    .dataframe tbody tr th:only-of-type {\n",
       "        vertical-align: middle;\n",
       "    }\n",
       "\n",
       "    .dataframe tbody tr th {\n",
       "        vertical-align: top;\n",
       "    }\n",
       "\n",
       "    .dataframe thead th {\n",
       "        text-align: right;\n",
       "    }\n",
       "</style>\n",
       "<table border=\"1\" class=\"dataframe\">\n",
       "  <thead>\n",
       "    <tr style=\"text-align: right;\">\n",
       "      <th></th>\n",
       "      <th>student</th>\n",
       "      <th>school</th>\n",
       "      <th>grade</th>\n",
       "    </tr>\n",
       "  </thead>\n",
       "  <tbody>\n",
       "    <tr>\n",
       "      <td>0</td>\n",
       "      <td>Andy</td>\n",
       "      <td>Z</td>\n",
       "      <td>20</td>\n",
       "    </tr>\n",
       "    <tr>\n",
       "      <td>1</td>\n",
       "      <td>Bernie</td>\n",
       "      <td>Y</td>\n",
       "      <td>200</td>\n",
       "    </tr>\n",
       "    <tr>\n",
       "      <td>2</td>\n",
       "      <td>Cindy</td>\n",
       "      <td>Z</td>\n",
       "      <td>2000</td>\n",
       "    </tr>\n",
       "    <tr>\n",
       "      <td>3</td>\n",
       "      <td>Deb</td>\n",
       "      <td>Y</td>\n",
       "      <td>20000</td>\n",
       "    </tr>\n",
       "  </tbody>\n",
       "</table>\n",
       "</div>"
      ],
      "text/plain": [
       "  student school  grade\n",
       "0    Andy      Z     20\n",
       "1  Bernie      Y    200\n",
       "2   Cindy      Z   2000\n",
       "3     Deb      Y  20000"
      ]
     },
     "execution_count": 8,
     "metadata": {},
     "output_type": "execute_result"
    }
   ],
   "source": [
    "df_long.pivot_table(index=[\"student\", \"school\"]).reset_index()"
   ]
  },
  {
   "cell_type": "code",
   "execution_count": 9,
   "metadata": {
    "ExecuteTime": {
     "end_time": "2020-06-01T01:03:06.498896Z",
     "start_time": "2020-06-01T01:03:06.467125Z"
    }
   },
   "outputs": [
    {
     "data": {
      "text/html": [
       "<div>\n",
       "<style scoped>\n",
       "    .dataframe tbody tr th:only-of-type {\n",
       "        vertical-align: middle;\n",
       "    }\n",
       "\n",
       "    .dataframe tbody tr th {\n",
       "        vertical-align: top;\n",
       "    }\n",
       "\n",
       "    .dataframe thead th {\n",
       "        text-align: right;\n",
       "    }\n",
       "</style>\n",
       "<table border=\"1\" class=\"dataframe\">\n",
       "  <thead>\n",
       "    <tr style=\"text-align: right;\">\n",
       "      <th></th>\n",
       "      <th>student</th>\n",
       "      <th>school</th>\n",
       "      <th>grade</th>\n",
       "    </tr>\n",
       "  </thead>\n",
       "  <tbody>\n",
       "    <tr>\n",
       "      <td>0</td>\n",
       "      <td>Andy</td>\n",
       "      <td>Z</td>\n",
       "      <td>20</td>\n",
       "    </tr>\n",
       "    <tr>\n",
       "      <td>1</td>\n",
       "      <td>Bernie</td>\n",
       "      <td>Y</td>\n",
       "      <td>200</td>\n",
       "    </tr>\n",
       "    <tr>\n",
       "      <td>2</td>\n",
       "      <td>Cindy</td>\n",
       "      <td>Z</td>\n",
       "      <td>2000</td>\n",
       "    </tr>\n",
       "    <tr>\n",
       "      <td>3</td>\n",
       "      <td>Deb</td>\n",
       "      <td>Y</td>\n",
       "      <td>20000</td>\n",
       "    </tr>\n",
       "  </tbody>\n",
       "</table>\n",
       "</div>"
      ],
      "text/plain": [
       "  student school  grade\n",
       "0    Andy      Z     20\n",
       "1  Bernie      Y    200\n",
       "2   Cindy      Z   2000\n",
       "3     Deb      Y  20000"
      ]
     },
     "execution_count": 9,
     "metadata": {},
     "output_type": "execute_result"
    }
   ],
   "source": [
    "df_long.groupby(['student', 'school']).mean().reset_index()"
   ]
  },
  {
   "cell_type": "code",
   "execution_count": 10,
   "metadata": {
    "ExecuteTime": {
     "end_time": "2020-06-01T01:03:20.199141Z",
     "start_time": "2020-06-01T01:03:20.140093Z"
    }
   },
   "outputs": [
    {
     "data": {
      "text/html": [
       "<div>\n",
       "<style scoped>\n",
       "    .dataframe tbody tr th:only-of-type {\n",
       "        vertical-align: middle;\n",
       "    }\n",
       "\n",
       "    .dataframe tbody tr th {\n",
       "        vertical-align: top;\n",
       "    }\n",
       "\n",
       "    .dataframe thead tr th {\n",
       "        text-align: left;\n",
       "    }\n",
       "\n",
       "    .dataframe thead tr:last-of-type th {\n",
       "        text-align: right;\n",
       "    }\n",
       "</style>\n",
       "<table border=\"1\" class=\"dataframe\">\n",
       "  <thead>\n",
       "    <tr>\n",
       "      <th></th>\n",
       "      <th></th>\n",
       "      <th colspan=\"2\" halign=\"left\">max</th>\n",
       "      <th colspan=\"2\" halign=\"left\">first</th>\n",
       "    </tr>\n",
       "    <tr>\n",
       "      <th></th>\n",
       "      <th></th>\n",
       "      <th>class</th>\n",
       "      <th>grade</th>\n",
       "      <th>class</th>\n",
       "      <th>grade</th>\n",
       "    </tr>\n",
       "    <tr>\n",
       "      <th>student</th>\n",
       "      <th>school</th>\n",
       "      <th></th>\n",
       "      <th></th>\n",
       "      <th></th>\n",
       "      <th></th>\n",
       "    </tr>\n",
       "  </thead>\n",
       "  <tbody>\n",
       "    <tr>\n",
       "      <td>Andy</td>\n",
       "      <td>Z</td>\n",
       "      <td>physics</td>\n",
       "      <td>30</td>\n",
       "      <td>english</td>\n",
       "      <td>10</td>\n",
       "    </tr>\n",
       "    <tr>\n",
       "      <td>Bernie</td>\n",
       "      <td>Y</td>\n",
       "      <td>physics</td>\n",
       "      <td>300</td>\n",
       "      <td>english</td>\n",
       "      <td>100</td>\n",
       "    </tr>\n",
       "    <tr>\n",
       "      <td>Cindy</td>\n",
       "      <td>Z</td>\n",
       "      <td>physics</td>\n",
       "      <td>3000</td>\n",
       "      <td>english</td>\n",
       "      <td>1000</td>\n",
       "    </tr>\n",
       "    <tr>\n",
       "      <td>Deb</td>\n",
       "      <td>Y</td>\n",
       "      <td>physics</td>\n",
       "      <td>30000</td>\n",
       "      <td>english</td>\n",
       "      <td>10000</td>\n",
       "    </tr>\n",
       "  </tbody>\n",
       "</table>\n",
       "</div>"
      ],
      "text/plain": [
       "                    max           first       \n",
       "                  class  grade    class  grade\n",
       "student school                                \n",
       "Andy    Z       physics     30  english     10\n",
       "Bernie  Y       physics    300  english    100\n",
       "Cindy   Z       physics   3000  english   1000\n",
       "Deb     Y       physics  30000  english  10000"
      ]
     },
     "execution_count": 10,
     "metadata": {},
     "output_type": "execute_result"
    }
   ],
   "source": [
    "df_long.pivot_table(index=[\"student\", \"school\"], \n",
    "                    aggfunc=['max', 'first'])"
   ]
  },
  {
   "cell_type": "code",
   "execution_count": 11,
   "metadata": {
    "ExecuteTime": {
     "end_time": "2020-06-01T01:04:11.865629Z",
     "start_time": "2020-06-01T01:04:11.827776Z"
    }
   },
   "outputs": [
    {
     "data": {
      "text/html": [
       "<div>\n",
       "<style scoped>\n",
       "    .dataframe tbody tr th:only-of-type {\n",
       "        vertical-align: middle;\n",
       "    }\n",
       "\n",
       "    .dataframe tbody tr th {\n",
       "        vertical-align: top;\n",
       "    }\n",
       "\n",
       "    .dataframe thead tr th {\n",
       "        text-align: left;\n",
       "    }\n",
       "\n",
       "    .dataframe thead tr:last-of-type th {\n",
       "        text-align: right;\n",
       "    }\n",
       "</style>\n",
       "<table border=\"1\" class=\"dataframe\">\n",
       "  <thead>\n",
       "    <tr>\n",
       "      <th></th>\n",
       "      <th></th>\n",
       "      <th colspan=\"2\" halign=\"left\">class</th>\n",
       "      <th colspan=\"2\" halign=\"left\">grade</th>\n",
       "    </tr>\n",
       "    <tr>\n",
       "      <th></th>\n",
       "      <th></th>\n",
       "      <th>max</th>\n",
       "      <th>first</th>\n",
       "      <th>max</th>\n",
       "      <th>first</th>\n",
       "    </tr>\n",
       "    <tr>\n",
       "      <th>student</th>\n",
       "      <th>school</th>\n",
       "      <th></th>\n",
       "      <th></th>\n",
       "      <th></th>\n",
       "      <th></th>\n",
       "    </tr>\n",
       "  </thead>\n",
       "  <tbody>\n",
       "    <tr>\n",
       "      <td>Andy</td>\n",
       "      <td>Z</td>\n",
       "      <td>physics</td>\n",
       "      <td>english</td>\n",
       "      <td>30</td>\n",
       "      <td>10</td>\n",
       "    </tr>\n",
       "    <tr>\n",
       "      <td>Bernie</td>\n",
       "      <td>Y</td>\n",
       "      <td>physics</td>\n",
       "      <td>english</td>\n",
       "      <td>300</td>\n",
       "      <td>100</td>\n",
       "    </tr>\n",
       "    <tr>\n",
       "      <td>Cindy</td>\n",
       "      <td>Z</td>\n",
       "      <td>physics</td>\n",
       "      <td>english</td>\n",
       "      <td>3000</td>\n",
       "      <td>1000</td>\n",
       "    </tr>\n",
       "    <tr>\n",
       "      <td>Deb</td>\n",
       "      <td>Y</td>\n",
       "      <td>physics</td>\n",
       "      <td>english</td>\n",
       "      <td>30000</td>\n",
       "      <td>10000</td>\n",
       "    </tr>\n",
       "  </tbody>\n",
       "</table>\n",
       "</div>"
      ],
      "text/plain": [
       "                  class           grade       \n",
       "                    max    first    max  first\n",
       "student school                                \n",
       "Andy    Z       physics  english     30     10\n",
       "Bernie  Y       physics  english    300    100\n",
       "Cindy   Z       physics  english   3000   1000\n",
       "Deb     Y       physics  english  30000  10000"
      ]
     },
     "execution_count": 11,
     "metadata": {},
     "output_type": "execute_result"
    }
   ],
   "source": [
    "df_long.groupby([\"student\", \"school\"]).agg(['max', 'first'])"
   ]
  },
  {
   "cell_type": "markdown",
   "metadata": {},
   "source": [
    "## Pivot example 4 (columns = 2, fill_value)\n"
   ]
  },
  {
   "cell_type": "code",
   "execution_count": 12,
   "metadata": {
    "ExecuteTime": {
     "end_time": "2020-06-01T01:05:24.725454Z",
     "start_time": "2020-06-01T01:05:24.679338Z"
    }
   },
   "outputs": [
    {
     "data": {
      "text/html": [
       "<div>\n",
       "<style scoped>\n",
       "    .dataframe tbody tr th:only-of-type {\n",
       "        vertical-align: middle;\n",
       "    }\n",
       "\n",
       "    .dataframe tbody tr th {\n",
       "        vertical-align: top;\n",
       "    }\n",
       "\n",
       "    .dataframe thead tr th {\n",
       "        text-align: left;\n",
       "    }\n",
       "\n",
       "    .dataframe thead tr:last-of-type th {\n",
       "        text-align: right;\n",
       "    }\n",
       "</style>\n",
       "<table border=\"1\" class=\"dataframe\">\n",
       "  <thead>\n",
       "    <tr>\n",
       "      <th>school</th>\n",
       "      <th colspan=\"3\" halign=\"left\">Y</th>\n",
       "      <th colspan=\"3\" halign=\"left\">Z</th>\n",
       "    </tr>\n",
       "    <tr>\n",
       "      <th>class</th>\n",
       "      <th>english</th>\n",
       "      <th>math</th>\n",
       "      <th>physics</th>\n",
       "      <th>english</th>\n",
       "      <th>math</th>\n",
       "      <th>physics</th>\n",
       "    </tr>\n",
       "    <tr>\n",
       "      <th>student</th>\n",
       "      <th></th>\n",
       "      <th></th>\n",
       "      <th></th>\n",
       "      <th></th>\n",
       "      <th></th>\n",
       "      <th></th>\n",
       "    </tr>\n",
       "  </thead>\n",
       "  <tbody>\n",
       "    <tr>\n",
       "      <td>Andy</td>\n",
       "      <td>NaN</td>\n",
       "      <td>NaN</td>\n",
       "      <td>NaN</td>\n",
       "      <td>10.0</td>\n",
       "      <td>20.0</td>\n",
       "      <td>30.0</td>\n",
       "    </tr>\n",
       "    <tr>\n",
       "      <td>Bernie</td>\n",
       "      <td>100.0</td>\n",
       "      <td>200.0</td>\n",
       "      <td>300.0</td>\n",
       "      <td>NaN</td>\n",
       "      <td>NaN</td>\n",
       "      <td>NaN</td>\n",
       "    </tr>\n",
       "    <tr>\n",
       "      <td>Cindy</td>\n",
       "      <td>NaN</td>\n",
       "      <td>NaN</td>\n",
       "      <td>NaN</td>\n",
       "      <td>1000.0</td>\n",
       "      <td>2000.0</td>\n",
       "      <td>3000.0</td>\n",
       "    </tr>\n",
       "    <tr>\n",
       "      <td>Deb</td>\n",
       "      <td>10000.0</td>\n",
       "      <td>20000.0</td>\n",
       "      <td>30000.0</td>\n",
       "      <td>NaN</td>\n",
       "      <td>NaN</td>\n",
       "      <td>NaN</td>\n",
       "    </tr>\n",
       "  </tbody>\n",
       "</table>\n",
       "</div>"
      ],
      "text/plain": [
       "school         Y                         Z                \n",
       "class    english     math  physics english    math physics\n",
       "student                                                   \n",
       "Andy         NaN      NaN      NaN    10.0    20.0    30.0\n",
       "Bernie     100.0    200.0    300.0     NaN     NaN     NaN\n",
       "Cindy        NaN      NaN      NaN  1000.0  2000.0  3000.0\n",
       "Deb      10000.0  20000.0  30000.0     NaN     NaN     NaN"
      ]
     },
     "execution_count": 12,
     "metadata": {},
     "output_type": "execute_result"
    }
   ],
   "source": [
    "df_long.pivot_table(index=\"student\", \n",
    "                    columns=['school', 'class'], \n",
    "                    values='grade')"
   ]
  },
  {
   "cell_type": "code",
   "execution_count": 13,
   "metadata": {
    "ExecuteTime": {
     "end_time": "2020-06-01T01:06:02.730545Z",
     "start_time": "2020-06-01T01:06:02.685921Z"
    }
   },
   "outputs": [
    {
     "data": {
      "text/html": [
       "<div>\n",
       "<style scoped>\n",
       "    .dataframe tbody tr th:only-of-type {\n",
       "        vertical-align: middle;\n",
       "    }\n",
       "\n",
       "    .dataframe tbody tr th {\n",
       "        vertical-align: top;\n",
       "    }\n",
       "\n",
       "    .dataframe thead tr th {\n",
       "        text-align: left;\n",
       "    }\n",
       "\n",
       "    .dataframe thead tr:last-of-type th {\n",
       "        text-align: right;\n",
       "    }\n",
       "</style>\n",
       "<table border=\"1\" class=\"dataframe\">\n",
       "  <thead>\n",
       "    <tr>\n",
       "      <th>school</th>\n",
       "      <th colspan=\"3\" halign=\"left\">Y</th>\n",
       "      <th colspan=\"3\" halign=\"left\">Z</th>\n",
       "    </tr>\n",
       "    <tr>\n",
       "      <th>class</th>\n",
       "      <th>english</th>\n",
       "      <th>math</th>\n",
       "      <th>physics</th>\n",
       "      <th>english</th>\n",
       "      <th>math</th>\n",
       "      <th>physics</th>\n",
       "    </tr>\n",
       "    <tr>\n",
       "      <th>student</th>\n",
       "      <th></th>\n",
       "      <th></th>\n",
       "      <th></th>\n",
       "      <th></th>\n",
       "      <th></th>\n",
       "      <th></th>\n",
       "    </tr>\n",
       "  </thead>\n",
       "  <tbody>\n",
       "    <tr>\n",
       "      <td>Andy</td>\n",
       "      <td>-5</td>\n",
       "      <td>-5</td>\n",
       "      <td>-5</td>\n",
       "      <td>10</td>\n",
       "      <td>20</td>\n",
       "      <td>30</td>\n",
       "    </tr>\n",
       "    <tr>\n",
       "      <td>Bernie</td>\n",
       "      <td>100</td>\n",
       "      <td>200</td>\n",
       "      <td>300</td>\n",
       "      <td>-5</td>\n",
       "      <td>-5</td>\n",
       "      <td>-5</td>\n",
       "    </tr>\n",
       "    <tr>\n",
       "      <td>Cindy</td>\n",
       "      <td>-5</td>\n",
       "      <td>-5</td>\n",
       "      <td>-5</td>\n",
       "      <td>1000</td>\n",
       "      <td>2000</td>\n",
       "      <td>3000</td>\n",
       "    </tr>\n",
       "    <tr>\n",
       "      <td>Deb</td>\n",
       "      <td>10000</td>\n",
       "      <td>20000</td>\n",
       "      <td>30000</td>\n",
       "      <td>-5</td>\n",
       "      <td>-5</td>\n",
       "      <td>-5</td>\n",
       "    </tr>\n",
       "  </tbody>\n",
       "</table>\n",
       "</div>"
      ],
      "text/plain": [
       "school        Y                      Z              \n",
       "class   english   math physics english  math physics\n",
       "student                                             \n",
       "Andy         -5     -5      -5      10    20      30\n",
       "Bernie      100    200     300      -5    -5      -5\n",
       "Cindy        -5     -5      -5    1000  2000    3000\n",
       "Deb       10000  20000   30000      -5    -5      -5"
      ]
     },
     "execution_count": 13,
     "metadata": {},
     "output_type": "execute_result"
    }
   ],
   "source": [
    "df_long.pivot_table(index=\"student\", \n",
    "                    columns=['school', 'class'], \n",
    "                    values='grade', \n",
    "                    fill_value=-5)"
   ]
  },
  {
   "cell_type": "markdown",
   "metadata": {},
   "source": [
    "# numpy reshape and stack cheatsheet"
   ]
  },
  {
   "cell_type": "markdown",
   "metadata": {},
   "source": [
    "*  https://towardsdatascience.com/reshaping-numpy-arrays-in-python-a-step-by-step-pictorial-tutorial-aed5f471cf0b\n",
    "*  https://jalammar.github.io/visual-numpy/ "
   ]
  },
  {
   "cell_type": "markdown",
   "metadata": {},
   "source": [
    "## create numpy array"
   ]
  },
  {
   "cell_type": "code",
   "execution_count": 14,
   "metadata": {
    "ExecuteTime": {
     "end_time": "2020-06-01T01:46:19.625307Z",
     "start_time": "2020-06-01T01:46:19.613726Z"
    }
   },
   "outputs": [
    {
     "name": "stdout",
     "output_type": "stream",
     "text": [
      "(12,)\n",
      "[ 1  2  3  4  5  6  7  8  9 10 11 12]\n"
     ]
    }
   ],
   "source": [
    "import numpy as np\n",
    "a1 = np.arange(1, 13)  # numbers 1 to 12\n",
    "print(a1.shape)\n",
    "# > (12,)\n",
    "print(a1)\n",
    "# > [ 1  2  3  4  5  6  7  8  9 10 11 12]"
   ]
  },
  {
   "cell_type": "markdown",
   "metadata": {},
   "source": [
    "## Reshape with reshape() method\n"
   ]
  },
  {
   "cell_type": "markdown",
   "metadata": {},
   "source": [
    "* -1 表示自动推导剩余的尺寸/长度"
   ]
  },
  {
   "cell_type": "code",
   "execution_count": 15,
   "metadata": {
    "ExecuteTime": {
     "end_time": "2020-06-01T01:46:52.868997Z",
     "start_time": "2020-06-01T01:46:52.856610Z"
    }
   },
   "outputs": [
    {
     "name": "stdout",
     "output_type": "stream",
     "text": [
      "(3, 4)\n",
      "[[ 1  2  3  4]\n",
      " [ 5  6  7  8]\n",
      " [ 9 10 11 12]]\n"
     ]
    }
   ],
   "source": [
    "a1_2d = a1.reshape(3, 4)  # 3_4\n",
    "print(a1_2d.shape)\n",
    "# > (3, 4)\n",
    "print(a1_2d)\n",
    "# > [[ 1  2  3  4]\n",
    "#    [ 5  6  7  8]\n",
    "#    [ 9 10 11 12]]"
   ]
  },
  {
   "cell_type": "code",
   "execution_count": 17,
   "metadata": {
    "ExecuteTime": {
     "end_time": "2020-06-01T01:47:36.498141Z",
     "start_time": "2020-06-01T01:47:36.486700Z"
    }
   },
   "outputs": [
    {
     "data": {
      "text/plain": [
       "array([[ 1,  2,  3,  4],\n",
       "       [ 5,  6,  7,  8],\n",
       "       [ 9, 10, 11, 12]])"
      ]
     },
     "execution_count": 17,
     "metadata": {},
     "output_type": "execute_result"
    }
   ],
   "source": [
    "a1.reshape(3, 4)\n",
    "a1.reshape(-1, 4)  # same as above: a1.reshape(3, 4)"
   ]
  },
  {
   "cell_type": "code",
   "execution_count": 18,
   "metadata": {
    "ExecuteTime": {
     "end_time": "2020-06-01T01:47:44.054341Z",
     "start_time": "2020-06-01T01:47:44.043006Z"
    }
   },
   "outputs": [
    {
     "data": {
      "text/plain": [
       "array([[ 1,  2,  3,  4],\n",
       "       [ 5,  6,  7,  8],\n",
       "       [ 9, 10, 11, 12]])"
      ]
     },
     "execution_count": 18,
     "metadata": {},
     "output_type": "execute_result"
    }
   ],
   "source": [
    "a1.reshape(3, 4)\n",
    "a1.reshape(3, -1)  # same as above: a1.reshape(3, 4)"
   ]
  },
  {
   "cell_type": "code",
   "execution_count": 19,
   "metadata": {
    "ExecuteTime": {
     "end_time": "2020-06-01T01:47:49.527506Z",
     "start_time": "2020-06-01T01:47:49.516121Z"
    }
   },
   "outputs": [
    {
     "data": {
      "text/plain": [
       "array([[ 1,  2,  3,  4,  5,  6],\n",
       "       [ 7,  8,  9, 10, 11, 12]])"
      ]
     },
     "execution_count": 19,
     "metadata": {},
     "output_type": "execute_result"
    }
   ],
   "source": [
    "a1.reshape(2, 6)\n",
    "a1.reshape(2, -1)  # same as above: a1.reshape(2, 6)"
   ]
  },
  {
   "cell_type": "markdown",
   "metadata": {},
   "source": [
    "## Reshape along different dimensions\n"
   ]
  },
  {
   "cell_type": "markdown",
   "metadata": {},
   "source": [
    "默认情况下，reshape（）沿第0维（行）对数组进行整形。"
   ]
  },
  {
   "cell_type": "code",
   "execution_count": 20,
   "metadata": {
    "ExecuteTime": {
     "end_time": "2020-06-01T01:49:02.159057Z",
     "start_time": "2020-06-01T01:49:02.147018Z"
    }
   },
   "outputs": [
    {
     "data": {
      "text/plain": [
       "array([[ 1,  2,  3,  4],\n",
       "       [ 5,  6,  7,  8],\n",
       "       [ 9, 10, 11, 12]])"
      ]
     },
     "execution_count": 20,
     "metadata": {},
     "output_type": "execute_result"
    }
   ],
   "source": [
    "a1.reshape(3, 4) # reshapes or ‘fills in’ row by row\n",
    "a1.reshape(3, 4, order='C') # same results as above"
   ]
  },
  {
   "cell_type": "code",
   "execution_count": 21,
   "metadata": {
    "ExecuteTime": {
     "end_time": "2020-06-01T01:49:32.554325Z",
     "start_time": "2020-06-01T01:49:32.543123Z"
    }
   },
   "outputs": [
    {
     "data": {
      "text/plain": [
       "array([[ 1,  4,  7, 10],\n",
       "       [ 2,  5,  8, 11],\n",
       "       [ 3,  6,  9, 12]])"
      ]
     },
     "execution_count": 21,
     "metadata": {},
     "output_type": "execute_result"
    }
   ],
   "source": [
    "a1.reshape(3, 4, order='F')  # reshapes column by column\n"
   ]
  },
  {
   "cell_type": "code",
   "execution_count": 22,
   "metadata": {
    "ExecuteTime": {
     "end_time": "2020-06-01T01:50:01.078261Z",
     "start_time": "2020-06-01T01:50:01.064723Z"
    }
   },
   "outputs": [
    {
     "name": "stdout",
     "output_type": "stream",
     "text": [
      "[ 1  2  3  4  5  6  7  8  9 10 11 12]\n",
      "(12,)\n",
      "[[ 1  2  3  4  5  6  7  8  9 10 11 12]]\n",
      "(1, 12)\n"
     ]
    }
   ],
   "source": [
    "print(a1)  # what's the shape?\n",
    "# > [ 1  2  3  4  5  6  7  8  9 10 11 12]\n",
    "print(a1.shape)\n",
    "# > (12,)\n",
    "a1_1_by_12 = a1.reshape(1, -1)  # reshape to 1_12\n",
    "print(a1_1_by_12)  # note the double square brackets!\n",
    "# > [[ 1  2  3  4  5  6  7  8  9 10 11 12]]\n",
    "print(a1_1_by_12.shape)  # 1_12 array\n",
    "# > (1, 12)"
   ]
  },
  {
   "cell_type": "markdown",
   "metadata": {},
   "source": [
    "## Flatten/ravel to 1D arrays with ravel()\n"
   ]
  },
  {
   "cell_type": "markdown",
   "metadata": {},
   "source": [
    "![title](img/reshape_ravel.png)\n"
   ]
  },
  {
   "cell_type": "code",
   "execution_count": 23,
   "metadata": {
    "ExecuteTime": {
     "end_time": "2020-06-01T01:50:34.476400Z",
     "start_time": "2020-06-01T01:50:34.468170Z"
    }
   },
   "outputs": [
    {
     "name": "stdout",
     "output_type": "stream",
     "text": [
      "[[ 1  2  3  4]\n",
      " [ 5  6  7  8]\n",
      " [ 9 10 11 12]]\n"
     ]
    }
   ],
   "source": [
    "print(a1_2d)  # 3_4\n",
    "# > [[ 1  2  3  4]\n",
    "#    [ 5  6  7  8]\n",
    "#    [ 9 10 11 12]]"
   ]
  },
  {
   "cell_type": "code",
   "execution_count": 24,
   "metadata": {
    "ExecuteTime": {
     "end_time": "2020-06-01T01:50:44.492299Z",
     "start_time": "2020-06-01T01:50:44.483940Z"
    }
   },
   "outputs": [
    {
     "name": "stdout",
     "output_type": "stream",
     "text": [
      "[ 1  2  3  4  5  6  7  8  9 10 11 12]\n"
     ]
    }
   ],
   "source": [
    "print(a1_2d.ravel())  # ravel by row (default order='C')\n",
    "# > [ 1  2  3  4  5  6  7  8  9 10 11 12]"
   ]
  },
  {
   "cell_type": "code",
   "execution_count": 25,
   "metadata": {
    "ExecuteTime": {
     "end_time": "2020-06-01T01:50:54.870265Z",
     "start_time": "2020-06-01T01:50:54.861362Z"
    }
   },
   "outputs": [
    {
     "name": "stdout",
     "output_type": "stream",
     "text": [
      "[ 1  5  9  2  6 10  3  7 11  4  8 12]\n"
     ]
    }
   ],
   "source": [
    "print(a1_2d.ravel(order='F'))  # ravel by column\n",
    "# > [ 1  5  9  2  6 10  3  7 11  4  8 12]\n"
   ]
  },
  {
   "cell_type": "markdown",
   "metadata": {},
   "source": [
    "## Concatenate/stack arrays with np.stack() and np.hstack()"
   ]
  },
  {
   "cell_type": "markdown",
   "metadata": {},
   "source": [
    "![np_stack](img/np_stack_hstack.png)"
   ]
  },
  {
   "cell_type": "code",
   "execution_count": 26,
   "metadata": {
    "ExecuteTime": {
     "end_time": "2020-06-01T02:01:29.840762Z",
     "start_time": "2020-06-01T02:01:29.828555Z"
    }
   },
   "outputs": [
    {
     "name": "stdout",
     "output_type": "stream",
     "text": [
      "[ 1  2  3  4  5  6  7  8  9 10 11 12]\n",
      "[13 14 15 16 17 18 19 20 21 22 23 24]\n"
     ]
    }
   ],
   "source": [
    "a1 = np.arange(1, 13)\n",
    "print(a1)\n",
    "# > [ 1  2  3  4  5  6  7  8  9 10 11 12]\n",
    "a2 = np.arange(13, 25)\n",
    "print(a2)\n",
    "# > [13 14 15 16 17 18 19 20 21 22 23 24]"
   ]
  },
  {
   "cell_type": "code",
   "execution_count": 27,
   "metadata": {
    "ExecuteTime": {
     "end_time": "2020-06-01T02:01:46.271014Z",
     "start_time": "2020-06-01T02:01:46.258847Z"
    }
   },
   "outputs": [
    {
     "name": "stdout",
     "output_type": "stream",
     "text": [
      "(4, 12)\n",
      "[[ 1  2  3  4  5  6  7  8  9 10 11 12]\n",
      " [ 1  2  3  4  5  6  7  8  9 10 11 12]\n",
      " [13 14 15 16 17 18 19 20 21 22 23 24]\n",
      " [13 14 15 16 17 18 19 20 21 22 23 24]]\n"
     ]
    }
   ],
   "source": [
    "stack0 = np.stack((a1, a1, a2, a2))  # default stack along 0th axis\n",
    "print(stack0.shape)\n",
    "# > (4, 12)\n",
    "print(stack0)\n",
    "# > [[ 1  2  3  4  5  6  7  8  9 10 11 12]\n",
    "#    [ 1  2  3  4  5  6  7  8  9 10 11 12]\n",
    "#    [13 14 15 16 17 18 19 20 21 22 23 24]\n",
    "#    [13 14 15 16 17 18 19 20 21 22 23 24]]"
   ]
  },
  {
   "cell_type": "markdown",
   "metadata": {},
   "source": [
    "Stack along the 1st dimension (axis=1)\n"
   ]
  },
  {
   "cell_type": "code",
   "execution_count": 28,
   "metadata": {
    "ExecuteTime": {
     "end_time": "2020-06-01T02:02:20.334301Z",
     "start_time": "2020-06-01T02:02:20.320971Z"
    }
   },
   "outputs": [
    {
     "name": "stdout",
     "output_type": "stream",
     "text": [
      "(12, 4)\n",
      "[[ 1  1 13 13]\n",
      " [ 2  2 14 14]\n",
      " [ 3  3 15 15]\n",
      " [ 4  4 16 16]\n",
      " [ 5  5 17 17]\n",
      " [ 6  6 18 18]\n",
      " [ 7  7 19 19]\n",
      " [ 8  8 20 20]\n",
      " [ 9  9 21 21]\n",
      " [10 10 22 22]\n",
      " [11 11 23 23]\n",
      " [12 12 24 24]]\n"
     ]
    }
   ],
   "source": [
    "stack1 = np.stack((a1, a1, a2, a2), axis=1)\n",
    "print(stack1.shape)\n",
    "# > (12, 4)\n",
    "print(stack1)\n",
    "# > [[ 1  1 13 13]\n",
    "#    [ 2  2 14 14]\n",
    "#    [ 3  3 15 15]\n",
    "#    [ 4  4 16 16]\n",
    "#    [ 5  5 17 17]\n",
    "#    [ 6  6 18 18]\n",
    "#    [ 7  7 19 19]\n",
    "#    [ 8  8 20 20]\n",
    "#    [ 9  9 21 21]\n",
    "#    [10 10 22 22]\n",
    "#    [11 11 23 23]\n",
    "#    [12 12 24 24]]"
   ]
  },
  {
   "cell_type": "code",
   "execution_count": 29,
   "metadata": {
    "ExecuteTime": {
     "end_time": "2020-06-01T02:02:51.350813Z",
     "start_time": "2020-06-01T02:02:51.339779Z"
    }
   },
   "outputs": [
    {
     "name": "stdout",
     "output_type": "stream",
     "text": [
      "(24,)\n",
      "[ 1  2  3  4  5  6  7  8  9 10 11 12 13 14 15 16 17 18 19 20 21 22 23 24]\n"
     ]
    }
   ],
   "source": [
    "stack_long = np.hstack((a1, a2))\n",
    "print(stack_long.shape)\n",
    "# > (24,)\n",
    "print(stack_long)\n",
    "# > [ 1  2  3  4  5  6  7  8  9 10 11 12 13 14 15 16 17 18 19 20 21 22 23 24]"
   ]
  },
  {
   "cell_type": "markdown",
   "metadata": {},
   "source": [
    "## Create multi-dimensional array (3D)\n"
   ]
  },
  {
   "cell_type": "markdown",
   "metadata": {},
   "source": [
    "![3d_from_2d](img/3d_from_2d.png)"
   ]
  },
  {
   "cell_type": "code",
   "execution_count": 32,
   "metadata": {
    "ExecuteTime": {
     "end_time": "2020-06-01T02:09:44.411191Z",
     "start_time": "2020-06-01T02:09:44.397371Z"
    }
   },
   "outputs": [
    {
     "name": "stdout",
     "output_type": "stream",
     "text": [
      "[[ 1  2  3  4]\n",
      " [ 5  6  7  8]\n",
      " [ 9 10 11 12]]\n",
      "[[13 14 15 16]\n",
      " [17 18 19 20]\n",
      " [21 22 23 24]]\n"
     ]
    }
   ],
   "source": [
    "a1 = np.arange(1, 13).reshape(3, -1)  # 3_4\n",
    "a2 = np.arange(13, 25).reshape(3, -1)  # 3_4\n",
    "print(a1)\n",
    "# > [[ 1  2  3  4]\n",
    "#    [ 5  6  7  8]\n",
    "#    [ 9 10 11 12]]\n",
    "print(a2)\n",
    "# > [[13 14 15 16]\n",
    "#    [17 18 19 20]\n",
    "#    [21 22 23 24]]"
   ]
  },
  {
   "cell_type": "code",
   "execution_count": 33,
   "metadata": {
    "ExecuteTime": {
     "end_time": "2020-06-01T02:09:47.400454Z",
     "start_time": "2020-06-01T02:09:47.384080Z"
    }
   },
   "outputs": [
    {
     "name": "stdout",
     "output_type": "stream",
     "text": [
      "(2, 3, 4)\n",
      "(3, 2, 4)\n",
      "(3, 4, 2)\n"
     ]
    }
   ],
   "source": [
    "a3_0 = np.stack((a1, a2))  # default axis=0 (dimension 0)\n",
    "a3_1 = np.stack((a1, a2), axis=1)  # along dimension 1\n",
    "a3_2 = np.stack((a1, a2), axis=2)  # along dimension 2\n",
    "print(a3_0.shape)\n",
    "# > (2, 3, 4)\n",
    "print(a3_1.shape)\n",
    "# > (3, 2, 4)\n",
    "print(a3_2.shape)\n",
    "# > (3, 4, 2)"
   ]
  },
  {
   "cell_type": "code",
   "execution_count": 34,
   "metadata": {
    "ExecuteTime": {
     "end_time": "2020-06-01T02:11:53.744380Z",
     "start_time": "2020-06-01T02:11:53.728256Z"
    }
   },
   "outputs": [
    {
     "name": "stdout",
     "output_type": "stream",
     "text": [
      "[[[ 1  2  3  4]\n",
      "  [ 5  6  7  8]\n",
      "  [ 9 10 11 12]]\n",
      "\n",
      " [[13 14 15 16]\n",
      "  [17 18 19 20]\n",
      "  [21 22 23 24]]]\n",
      "[[[ 1  2  3  4]\n",
      "  [13 14 15 16]]\n",
      "\n",
      " [[ 5  6  7  8]\n",
      "  [17 18 19 20]]\n",
      "\n",
      " [[ 9 10 11 12]\n",
      "  [21 22 23 24]]]\n",
      "[[[ 1 13]\n",
      "  [ 2 14]\n",
      "  [ 3 15]\n",
      "  [ 4 16]]\n",
      "\n",
      " [[ 5 17]\n",
      "  [ 6 18]\n",
      "  [ 7 19]\n",
      "  [ 8 20]]\n",
      "\n",
      " [[ 9 21]\n",
      "  [10 22]\n",
      "  [11 23]\n",
      "  [12 24]]]\n"
     ]
    }
   ],
   "source": [
    "print(a3_0)\n",
    "# > [[[ 1  2  3  4]\n",
    "#     [ 5  6  7  8]\n",
    "#     [ 9 10 11 12]]\n",
    "\n",
    "#    [[13 14 15 16]\n",
    "#     [17 18 19 20]\n",
    "#     [21 22 23 24]]]\n",
    "print(a3_1)\n",
    "# > [[[ 1  2  3  4]\n",
    "#     [13 14 15 16]]\n",
    "\n",
    "#    [[ 5  6  7  8]\n",
    "#     [17 18 19 20]]\n",
    "\n",
    "#    [[ 9 10 11 12]\n",
    "#     [21 22 23 24]]]\n",
    "print(a3_2)\n",
    "# > [[[ 1 13]\n",
    "#     [ 2 14]\n",
    "#     [ 3 15]\n",
    "#     [ 4 16]]\n",
    "\n",
    "#    [[ 5 17]\n",
    "#     [ 6 18]\n",
    "#     [ 7 19]\n",
    "#     [ 8 20]]\n",
    "\n",
    "#    [[ 9 21]\n",
    "#     [10 22]\n",
    "#     [11 23]\n",
    "#     [12 24]]]"
   ]
  },
  {
   "cell_type": "code",
   "execution_count": 36,
   "metadata": {
    "ExecuteTime": {
     "end_time": "2020-06-01T02:12:20.062299Z",
     "start_time": "2020-06-01T02:12:20.053816Z"
    }
   },
   "outputs": [
    {
     "name": "stdout",
     "output_type": "stream",
     "text": [
      "[[ 1  2  3  4]\n",
      " [ 5  6  7  8]\n",
      " [ 9 10 11 12]]\n"
     ]
    }
   ],
   "source": [
    "print(a1)  # check what's a1\n",
    "# > [[ 1  2  3  4]\n",
    "#    [ 5  6  7  8]\n",
    "#    [ 9 10 11 12]]\n",
    "# # solutions\n"
   ]
  },
  {
   "cell_type": "code",
   "execution_count": 37,
   "metadata": {
    "ExecuteTime": {
     "end_time": "2020-06-01T02:12:27.699846Z",
     "start_time": "2020-06-01T02:12:27.689518Z"
    }
   },
   "outputs": [
    {
     "data": {
      "text/plain": [
       "array([[ 1,  2,  3,  4],\n",
       "       [ 5,  6,  7,  8],\n",
       "       [ 9, 10, 11, 12]])"
      ]
     },
     "execution_count": 37,
     "metadata": {},
     "output_type": "execute_result"
    }
   ],
   "source": [
    "a3_0[0, :, :]\n"
   ]
  },
  {
   "cell_type": "code",
   "execution_count": 38,
   "metadata": {
    "ExecuteTime": {
     "end_time": "2020-06-01T02:12:33.383018Z",
     "start_time": "2020-06-01T02:12:33.372539Z"
    }
   },
   "outputs": [
    {
     "data": {
      "text/plain": [
       "array([[ 1,  2,  3,  4],\n",
       "       [ 5,  6,  7,  8],\n",
       "       [ 9, 10, 11, 12]])"
      ]
     },
     "execution_count": 38,
     "metadata": {},
     "output_type": "execute_result"
    }
   ],
   "source": [
    "a3_1[:, 0, :]\n"
   ]
  },
  {
   "cell_type": "code",
   "execution_count": 39,
   "metadata": {
    "ExecuteTime": {
     "end_time": "2020-06-01T02:12:38.272885Z",
     "start_time": "2020-06-01T02:12:38.262419Z"
    }
   },
   "outputs": [
    {
     "data": {
      "text/plain": [
       "array([[ 1,  2,  3,  4],\n",
       "       [ 5,  6,  7,  8],\n",
       "       [ 9, 10, 11, 12]])"
      ]
     },
     "execution_count": 39,
     "metadata": {},
     "output_type": "execute_result"
    }
   ],
   "source": [
    "a3_2[:, :, 0]\n"
   ]
  },
  {
   "cell_type": "markdown",
   "metadata": {},
   "source": [
    "## Flatten multidimensional arrays\n"
   ]
  },
  {
   "cell_type": "markdown",
   "metadata": {},
   "source": [
    "使用ravel（）展平多维数组。\n",
    "下面，我们逐行浏览（默认顺序为“ C”）到一维数组"
   ]
  },
  {
   "cell_type": "markdown",
   "metadata": {},
   "source": [
    "![flatten](img/flatten_multidimension_array.png)"
   ]
  },
  {
   "cell_type": "code",
   "execution_count": 40,
   "metadata": {
    "ExecuteTime": {
     "end_time": "2020-06-01T02:15:15.570920Z",
     "start_time": "2020-06-01T02:15:15.559809Z"
    }
   },
   "outputs": [
    {
     "name": "stdout",
     "output_type": "stream",
     "text": [
      "[[[ 1  2  3  4]\n",
      "  [ 5  6  7  8]\n",
      "  [ 9 10 11 12]]\n",
      "\n",
      " [[13 14 15 16]\n",
      "  [17 18 19 20]\n",
      "  [21 22 23 24]]]\n",
      "[ 1  2  3  4  5  6  7  8  9 10 11 12 13 14 15 16 17 18 19 20 21 22 23 24]\n"
     ]
    }
   ],
   "source": [
    "print(a3_0)\n",
    "# > [[[ 1  2  3  4]\n",
    "#     [ 5  6  7  8]\n",
    "#     [ 9 10 11 12]]\n",
    "\n",
    "#    [[13 14 15 16]\n",
    "#     [17 18 19 20]\n",
    "#     [21 22 23 24]]]\n",
    "print(a3_0.ravel())\n",
    "# > [ 1  2  3  4  5  6  7  8  9 10 11 12 13 14 15 16 17 18 19 20 21 22 23 24]"
   ]
  },
  {
   "cell_type": "code",
   "execution_count": 41,
   "metadata": {
    "ExecuteTime": {
     "end_time": "2020-06-01T02:15:23.808374Z",
     "start_time": "2020-06-01T02:15:23.799238Z"
    }
   },
   "outputs": [
    {
     "name": "stdout",
     "output_type": "stream",
     "text": [
      "[ 1 13  5 17  9 21  2 14  6 18 10 22  3 15  7 19 11 23  4 16  8 20 12 24]\n"
     ]
    }
   ],
   "source": [
    "print(a3_0.ravel(order='F'))\n",
    "# > [ 1 13  5 17  9 21  2 14  6 18 10 22  3 15  7 19 11 23  4 16  8 20 12 24]"
   ]
  },
  {
   "cell_type": "markdown",
   "metadata": {},
   "source": [
    "## Reshape multidimensional arrays\n"
   ]
  },
  {
   "cell_type": "code",
   "execution_count": 42,
   "metadata": {
    "ExecuteTime": {
     "end_time": "2020-06-01T02:16:26.203275Z",
     "start_time": "2020-06-01T02:16:26.183083Z"
    }
   },
   "outputs": [
    {
     "name": "stdout",
     "output_type": "stream",
     "text": [
      "[[[ 1  2  3  4]\n",
      "  [ 5  6  7  8]\n",
      "  [ 9 10 11 12]]\n",
      "\n",
      " [[13 14 15 16]\n",
      "  [17 18 19 20]\n",
      "  [21 22 23 24]]]\n",
      "[[ 1  2  3  4  5  6]\n",
      " [ 7  8  9 10 11 12]\n",
      " [13 14 15 16 17 18]\n",
      " [19 20 21 22 23 24]]\n",
      "[[ 1  9  6  3 11  8]\n",
      " [13 21 18 15 23 20]\n",
      " [ 5  2 10  7  4 12]\n",
      " [17 14 22 19 16 24]]\n",
      "[[[ 1  2  3]\n",
      "  [ 4  5  6]]\n",
      "\n",
      " [[ 7  8  9]\n",
      "  [10 11 12]]\n",
      "\n",
      " [[13 14 15]\n",
      "  [16 17 18]]\n",
      "\n",
      " [[19 20 21]\n",
      "  [22 23 24]]]\n"
     ]
    }
   ],
   "source": [
    "# reshape row by row (default order=C) to 2D array\n",
    "print(a3_0)  # 2_3_4\n",
    "# > [[[ 1  2  3  4]\n",
    "#     [ 5  6  7  8]\n",
    "#     [ 9 10 11 12]]\n",
    "\n",
    "#    [[13 14 15 16]\n",
    "#     [17 18 19 20]\n",
    "#     [21 22 23 24]]]\n",
    "print(a3_0.reshape(4, -1))  # reshape to 4_6 (row by row)\n",
    "# > [[ 1  2  3  4  5  6]\n",
    "#    [ 7  8  9 10 11 12]\n",
    "#    [13 14 15 16 17 18]\n",
    "#    [19 20 21 22 23 24]]\n",
    "print(a3_0.reshape(4, -1, order='F'))  # reshape (column by column)\n",
    "# > [[ 1  9  6  3 11  8]\n",
    "#    [13 21 18 15 23 20]\n",
    "#    [ 5  2 10  7  4 12]\n",
    "#    [17 14 22 19 16 24]]\n",
    "print(a3_0.reshape(4, 2, 3))  # reshape to 4_2_3 (row by row)\n",
    "# > [[[ 1  2  3]\n",
    "#     [ 4  5  6]]\n",
    "#    [[ 7  8  9]\n",
    "#     [10 11 12]]\n",
    "#    [[13 14 15]\n",
    "#     [16 17 18]]\n",
    "#    [[19 20 21]\n",
    "#     [22 23 24]]]"
   ]
  },
  {
   "cell_type": "code",
   "execution_count": null,
   "metadata": {},
   "outputs": [],
   "source": []
  }
 ],
 "metadata": {
  "hide_input": false,
  "kernelspec": {
   "display_name": "Python 3",
   "language": "python",
   "name": "python3"
  },
  "language_info": {
   "codemirror_mode": {
    "name": "ipython",
    "version": 3
   },
   "file_extension": ".py",
   "mimetype": "text/x-python",
   "name": "python",
   "nbconvert_exporter": "python",
   "pygments_lexer": "ipython3",
   "version": "3.6.8"
  },
  "toc": {
   "base_numbering": 1,
   "nav_menu": {},
   "number_sections": true,
   "sideBar": true,
   "skip_h1_title": false,
   "title_cell": "Table of Contents",
   "title_sidebar": "Contents",
   "toc_cell": false,
   "toc_position": {},
   "toc_section_display": true,
   "toc_window_display": true
  },
  "varInspector": {
   "cols": {
    "lenName": 16,
    "lenType": 16,
    "lenVar": 40
   },
   "kernels_config": {
    "python": {
     "delete_cmd_postfix": "",
     "delete_cmd_prefix": "del ",
     "library": "var_list.py",
     "varRefreshCmd": "print(var_dic_list())"
    },
    "r": {
     "delete_cmd_postfix": ") ",
     "delete_cmd_prefix": "rm(",
     "library": "var_list.r",
     "varRefreshCmd": "cat(var_dic_list()) "
    }
   },
   "types_to_exclude": [
    "module",
    "function",
    "builtin_function_or_method",
    "instance",
    "_Feature"
   ],
   "window_display": false
  }
 },
 "nbformat": 4,
 "nbformat_minor": 2
}
