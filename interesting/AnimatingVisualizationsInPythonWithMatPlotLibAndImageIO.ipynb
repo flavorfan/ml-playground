{
 "cells": [
  {
   "cell_type": "code",
   "execution_count": 3,
   "metadata": {
    "ExecuteTime": {
     "end_time": "2020-05-12T01:06:44.555354Z",
     "start_time": "2020-05-12T01:06:43.913032Z"
    }
   },
   "outputs": [
    {
     "name": "stdout",
     "output_type": "stream",
     "text": [
      "FanAI\r\n",
      "FanDlCourse\r\n",
      "Feat\r\n",
      "Kaggle_CrowdFlower\r\n",
      "Pillow-7.1.2-cp36-cp36m-manylinux1_x86_64.whl\r\n",
      "categorical-encoding\r\n",
      "imageio-2.8.0-py3-none-any.whl\r\n",
      "kaggle_crowdflower.tar\r\n",
      "natural-language-processing\r\n",
      "numpy-1.18.4-cp36-cp36m-manylinux1_x86_64.whl\r\n",
      "package\r\n"
     ]
    }
   ],
   "source": [
    "!ls /pylib"
   ]
  },
  {
   "cell_type": "code",
   "execution_count": 6,
   "metadata": {
    "ExecuteTime": {
     "end_time": "2020-05-12T01:08:40.580708Z",
     "start_time": "2020-05-12T01:08:29.041943Z"
    }
   },
   "outputs": [
    {
     "name": "stdout",
     "output_type": "stream",
     "text": [
      "Processing /pylib/numpy-1.18.4-cp36-cp36m-manylinux1_x86_64.whl\n",
      "\u001b[31mERROR: tensorboard 2.1.1 has requirement grpcio>=1.24.3, but you'll have grpcio 1.23.0 which is incompatible.\u001b[0m\n",
      "Installing collected packages: numpy\n",
      "  Found existing installation: numpy 1.17.1\n",
      "    Uninstalling numpy-1.17.1:\n",
      "      Successfully uninstalled numpy-1.17.1\n",
      "Successfully installed numpy-1.18.4\n",
      "\u001b[33mWARNING: You are using pip version 19.2.3, however version 20.1 is available.\n",
      "You should consider upgrading via the 'pip install --upgrade pip' command.\u001b[0m\n",
      "Processing /pylib/Pillow-7.1.2-cp36-cp36m-manylinux1_x86_64.whl\n",
      "Installing collected packages: Pillow\n",
      "Successfully installed Pillow-7.1.2\n",
      "\u001b[33mWARNING: You are using pip version 19.2.3, however version 20.1 is available.\n",
      "You should consider upgrading via the 'pip install --upgrade pip' command.\u001b[0m\n",
      "Processing /pylib/imageio-2.8.0-py3-none-any.whl\n",
      "Requirement already satisfied: pillow in /usr/local/lib/python3.6/dist-packages (from imageio==2.8.0) (7.1.2)\n",
      "Requirement already satisfied: numpy in /usr/local/lib/python3.6/dist-packages (from imageio==2.8.0) (1.18.4)\n",
      "Installing collected packages: imageio\n",
      "Successfully installed imageio-2.8.0\n",
      "\u001b[33mWARNING: You are using pip version 19.2.3, however version 20.1 is available.\n",
      "You should consider upgrading via the 'pip install --upgrade pip' command.\u001b[0m\n"
     ]
    }
   ],
   "source": [
    "!pip install /pylib/numpy-1.18.4-cp36-cp36m-manylinux1_x86_64.whl\n",
    "!pip install /pylib/Pillow-7.1.2-cp36-cp36m-manylinux1_x86_64.whl\n",
    "!pip install /pylib/imageio-2.8.0-py3-none-any.whl"
   ]
  },
  {
   "cell_type": "code",
   "execution_count": 7,
   "metadata": {
    "ExecuteTime": {
     "end_time": "2020-05-12T01:08:44.030504Z",
     "start_time": "2020-05-12T01:08:43.985571Z"
    }
   },
   "outputs": [],
   "source": [
    "#\n",
    "#IMPORTS\n",
    "#\n",
    "import pandas as pd\n",
    "import numpy as np\n",
    "import matplotlib.pyplot as plt\n",
    "import matplotlib\n",
    "import imageio as io\n",
    "import os\n",
    "import math"
   ]
  },
  {
   "cell_type": "code",
   "execution_count": 11,
   "metadata": {
    "ExecuteTime": {
     "end_time": "2020-05-12T01:27:58.040751Z",
     "start_time": "2020-05-12T01:27:57.987921Z"
    }
   },
   "outputs": [],
   "source": [
    "#\n",
    "#READ FILES\n",
    "#\n",
    "\n",
    "#MAIN GDP DATA FILE\n",
    "gdp_data = pd.read_csv(\"API_NY.GDP.MKTP.CD_DS2_en_csv_v2_988718/API_NY.GDP.MKTP.CD_DS2_en_csv_v2_988718.csv\",skiprows=4)\n",
    "\n",
    "#GDP METADATA FILE WITH COUNTRY INFO\n",
    "country_data =pd.read_csv(\n",
    "    \"API_NY.GDP.MKTP.CD_DS2_en_csv_v2_988718/Metadata_Country_API_NY.GDP.MKTP.CD_DS2_en_csv_v2_988718.csv\")\n",
    "\n",
    "#POPULATION DATA FILE\n",
    "pop_data = pd.read_csv(\"API_SP.POP.TOTL_DS2_en_csv_v2_988606/API_SP.POP.TOTL_DS2_en_csv_v2_988606.csv\", \n",
    "                       skiprows=4)"
   ]
  },
  {
   "cell_type": "code",
   "execution_count": 12,
   "metadata": {
    "ExecuteTime": {
     "end_time": "2020-05-12T01:27:59.909887Z",
     "start_time": "2020-05-12T01:27:59.895405Z"
    }
   },
   "outputs": [],
   "source": [
    "#\n",
    "#CREATE DATAFRAME OF REGIONS (MATCH EVERY COUNTRY IN GDP FILE TO IT'S REGION IN THE METADATA FILE)\n",
    "#\n",
    "country_regions = country_data.loc[(country_data['Country Code'].isin(gdp_data['Country Code']) )&\n",
    "                                   (country_data['Region'].notnull())]\n"
   ]
  },
  {
   "cell_type": "code",
   "execution_count": 13,
   "metadata": {
    "ExecuteTime": {
     "end_time": "2020-05-12T01:28:00.973196Z",
     "start_time": "2020-05-12T01:28:00.955852Z"
    }
   },
   "outputs": [],
   "source": [
    "#\n",
    "#ITERATE THROUGH COUNTRIES AND MATCH REGION TO COLOR\n",
    "#\n",
    "country_colors = []\n",
    "for country_region in country_regions['Region']:\n",
    "    if country_region=='Europe & Central Asia':\n",
    "        country_colors.append('Red')\n",
    "    if country_region=='Sub-Saharan Africa':\n",
    "        country_colors.append('Blue')\n",
    "    if country_region=='Latin America & Caribbean':\n",
    "        country_colors.append('Green')\n",
    "    if country_region=='East Asia & Pacific':\n",
    "        country_colors.append('purple')\n",
    "    if country_region=='Middle East & North Africa':\n",
    "        country_colors.append('Black')\n",
    "    if country_region=='South Asia':\n",
    "        country_colors.append('Orange')\n",
    "    if country_region=='North America':\n",
    "        country_colors.append('Grey')"
   ]
  },
  {
   "cell_type": "code",
   "execution_count": 14,
   "metadata": {
    "ExecuteTime": {
     "end_time": "2020-05-12T01:28:01.902163Z",
     "start_time": "2020-05-12T01:28:01.880830Z"
    }
   },
   "outputs": [],
   "source": [
    "#\n",
    "#REMOVE AGGREGATE RECORDS FROM DATA (AGGREGATE RECORDS HAVE NULL REGIONS IN THE COUNTRY METADATA)\n",
    "#\n",
    "gdp = gdp_data.loc[gdp_data['Country Code'].isin( \n",
    "                    country_data.loc[country_data['Region'].notnull()]['Country Code'].tolist())]\n",
    "pop = pop_data.loc[pop_data['Country Code'].isin( \n",
    "                    country_data.loc[country_data['Region'].notnull()]['Country Code'].tolist())]\n"
   ]
  },
  {
   "cell_type": "code",
   "execution_count": 15,
   "metadata": {
    "ExecuteTime": {
     "end_time": "2020-05-12T01:28:49.236353Z",
     "start_time": "2020-05-12T01:28:02.724050Z"
    }
   },
   "outputs": [],
   "source": [
    "#\n",
    "#CREATE PLOTS\n",
    "#\n",
    "\n",
    "#ITERATE OVER YEARS IN DATA\n",
    "for years in range(1960,2019):\n",
    "    #CONVERT YEARS TO STRING SO WE CAN USE IT AS A DATAFRAME INDEX\n",
    "    year = str(years)\n",
    "    #CREATE THE PLOT\n",
    "    fig, ax = plt.subplots(figsize=(12,12))\n",
    "    \n",
    "    #ALTERNATE PLOT USING .SCATTER()\n",
    "    #plt.scatter(pop[year],gdp[year]/pop[year],c=country_colors)\n",
    "    #(SIMPLER, BUT HARDER FOR THE VIEWER TO SEE WHAT IS GOING ON)\n",
    "    \n",
    "    #ITERATE OVER COUNTRIES IN DATA\n",
    "    for i in range(len(gdp[year])):\n",
    "        #ADD COUNTRY TO PLOT IF GDP AND POPULATION ARE NOT NULL\n",
    "        if (np.isnan(gdp[year].iat[i])==False)&(np.isnan(pop[year].iat[i])==False):\n",
    "            plt.text(x=pop[year].iat[i], #POPULATION\n",
    "                    y=gdp[year].iat[i]/(pop[year].iat[i]), #GDP PER CAPITA\n",
    "                    c=country_colors[i], #REGION COLOR\n",
    "                    s=gdp['Country Code'].iat[i]) #TEXT MARKER IS COUNTRY CODE\n",
    "    #AXIS LABELS\n",
    "    plt.ylabel('GDP per Capita')\n",
    "    plt.xlabel('Population')\n",
    "    #PLOT TITLE\n",
    "    plt.title(year, fontsize=16)\n",
    "    #SET AXIS SCALE (WE ARE USING THIS AS A CHEAT TO REMOVE OUTLIERS)\n",
    "    ax.set_xlim(0,100_000_000)\n",
    "    ax.set_ylim(0,150_000)\n",
    "    #FORMAT AXIS TICKS TO WHOLE NUMBERS\n",
    "    #(THIS WAS A REAL PAIN, ADAPTED FROM \n",
    "    #https://stackoverflow.com/questions/25973581/how-do-i-format-axis-number-format-to-thousands-with-a-comma-in-matplotlib)\n",
    "    #ax.yaxis.set_major_formatter(matplotlib.ticker.FormatStrFormatter(lambda x, p: format(int(x), ',')))\n",
    "    #ax.xaxis.set_major_formatter(matplotlib.ticker.FormatStrFormatter(lambda x, p: format(int(x), ',')))\n",
    "    \n",
    "    ax.get_xaxis().set_major_formatter(matplotlib.ticker.FuncFormatter(lambda x, p: format(int(x), ',')))\n",
    "    ax.get_yaxis().set_major_formatter(matplotlib.ticker.FuncFormatter(lambda y, p: format(int(y), ',')))\n",
    "    # SAVE FILE WITH YEAR INDEX\n",
    "    filename = f'gdppop{year}'\n",
    "    plt.savefig(filename,dpi=150)\n",
    "    #CLOSE PLOTS\n",
    "    plt.close('all')"
   ]
  },
  {
   "cell_type": "code",
   "execution_count": 16,
   "metadata": {
    "ExecuteTime": {
     "end_time": "2020-05-12T01:29:12.968364Z",
     "start_time": "2020-05-12T01:28:49.411390Z"
    }
   },
   "outputs": [],
   "source": [
    "#\n",
    "#MAKE GIF (ADAPTED FROM https://stackoverflow.com/questions/41228209/making-gif-from-images-using-imageio-in-python)\n",
    "#\n",
    "\n",
    "#CREATE SORTED LIST OF FILENAMES\n",
    "file_names = sorted((fn for fn in os.listdir('.') if fn.startswith('gdppop')))\n",
    "#USE IMAGE IO TO CREATE A GIF\n",
    "with io.get_writer('gdppop.gif', mode='I', duration=0.1) as writer:\n",
    "    #ITERATE OVER FILENAMES\n",
    "    for filename in file_names:\n",
    "        #READ IN FILE\n",
    "        image = io.imread(filename)\n",
    "        #APPEND FILE TO GIF\n",
    "        writer.append_data(image)\n",
    "writer.close()"
   ]
  },
  {
   "cell_type": "code",
   "execution_count": null,
   "metadata": {},
   "outputs": [],
   "source": []
  }
 ],
 "metadata": {
  "hide_input": false,
  "kernelspec": {
   "display_name": "Python 3",
   "language": "python",
   "name": "python3"
  },
  "language_info": {
   "codemirror_mode": {
    "name": "ipython",
    "version": 3
   },
   "file_extension": ".py",
   "mimetype": "text/x-python",
   "name": "python",
   "nbconvert_exporter": "python",
   "pygments_lexer": "ipython3",
   "version": "3.6.8"
  },
  "toc": {
   "base_numbering": 1,
   "nav_menu": {},
   "number_sections": true,
   "sideBar": true,
   "skip_h1_title": false,
   "title_cell": "Table of Contents",
   "title_sidebar": "Contents",
   "toc_cell": false,
   "toc_position": {},
   "toc_section_display": true,
   "toc_window_display": false
  },
  "varInspector": {
   "cols": {
    "lenName": 16,
    "lenType": 16,
    "lenVar": 40
   },
   "kernels_config": {
    "python": {
     "delete_cmd_postfix": "",
     "delete_cmd_prefix": "del ",
     "library": "var_list.py",
     "varRefreshCmd": "print(var_dic_list())"
    },
    "r": {
     "delete_cmd_postfix": ") ",
     "delete_cmd_prefix": "rm(",
     "library": "var_list.r",
     "varRefreshCmd": "cat(var_dic_list()) "
    }
   },
   "types_to_exclude": [
    "module",
    "function",
    "builtin_function_or_method",
    "instance",
    "_Feature"
   ],
   "window_display": false
  }
 },
 "nbformat": 4,
 "nbformat_minor": 2
}
