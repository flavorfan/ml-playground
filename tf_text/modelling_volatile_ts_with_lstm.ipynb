{
 "cells": [
  {
   "cell_type": "code",
   "execution_count": 11,
   "metadata": {
    "ExecuteTime": {
     "end_time": "2020-03-20T03:43:54.109171Z",
     "start_time": "2020-03-20T03:43:53.879354Z"
    }
   },
   "outputs": [],
   "source": [
    "import os\n",
    "import csv\n",
    "import random\n",
    "import statsmodels.api as sm\n",
    "import statsmodels.formula.api as smf\n",
    "import numpy as np\n",
    "import pandas as pd\n",
    "from sklearn.model_selection import train_test_split\n",
    "from sklearn.linear_model import LogisticRegression\n",
    "from sklearn.ensemble import ExtraTreesClassifier\n",
    "from sklearn.preprocessing import MinMaxScaler\n"
   ]
  },
  {
   "cell_type": "markdown",
   "metadata": {},
   "source": [
    "数据来源：   （展开缩小动画很有意思）\n",
    "https://www.met.ie/climate/available-data/historical-data"
   ]
  },
  {
   "cell_type": "code",
   "execution_count": 10,
   "metadata": {
    "ExecuteTime": {
     "end_time": "2020-03-20T03:41:50.123169Z",
     "start_time": "2020-03-20T03:32:44.956841Z"
    }
   },
   "outputs": [
    {
     "name": "stdout",
     "output_type": "stream",
     "text": [
      "Collecting statsmodels\n",
      "\u001b[?25l  Downloading https://files.pythonhosted.org/packages/cb/83/540fd83238a18abe6c2d280fa8e489ac5fcefa1f370f0ca1acd16ae1b860/statsmodels-0.11.1-cp36-cp36m-manylinux1_x86_64.whl (8.7MB)\n",
      "\u001b[K     |████████████████████████████████| 8.7MB 25kB/s eta 0:00:018\n",
      "\u001b[?25hRequirement already satisfied: numpy>=1.14 in /usr/local/lib/python3.6/dist-packages (from statsmodels) (1.17.1)\n",
      "Requirement already satisfied: pandas>=0.21 in /usr/local/lib/python3.6/dist-packages (from statsmodels) (0.25.1)\n",
      "Collecting patsy>=0.5 (from statsmodels)\n",
      "\u001b[?25l  Downloading https://files.pythonhosted.org/packages/ea/0c/5f61f1a3d4385d6bf83b83ea495068857ff8dfb89e74824c6e9eb63286d8/patsy-0.5.1-py2.py3-none-any.whl (231kB)\n",
      "\u001b[K     |████████████████████████████████| 235kB 26kB/s eta 0:00:01\n",
      "\u001b[?25hRequirement already satisfied: scipy>=1.0 in /usr/local/lib/python3.6/dist-packages (from statsmodels) (1.4.1)\n",
      "Requirement already satisfied: python-dateutil>=2.6.1 in /usr/local/lib/python3.6/dist-packages (from pandas>=0.21->statsmodels) (2.8.0)\n",
      "Requirement already satisfied: pytz>=2017.2 in /usr/local/lib/python3.6/dist-packages (from pandas>=0.21->statsmodels) (2019.3)\n",
      "Requirement already satisfied: six in /usr/local/lib/python3.6/dist-packages (from patsy>=0.5->statsmodels) (1.14.0)\n",
      "Installing collected packages: patsy, statsmodels\n",
      "Successfully installed patsy-0.5.1 statsmodels-0.11.1\n",
      "\u001b[33mWARNING: You are using pip version 19.2.3, however version 20.0.2 is available.\n",
      "You should consider upgrading via the 'pip install --upgrade pip' command.\u001b[0m\n"
     ]
    }
   ],
   "source": [
    "!pip install statsmodels"
   ]
  },
  {
   "cell_type": "code",
   "execution_count": 12,
   "metadata": {
    "ExecuteTime": {
     "end_time": "2020-03-20T03:43:56.874951Z",
     "start_time": "2020-03-20T03:43:56.846645Z"
    }
   },
   "outputs": [
    {
     "data": {
      "text/html": [
       "<div>\n",
       "<style scoped>\n",
       "    .dataframe tbody tr th:only-of-type {\n",
       "        vertical-align: middle;\n",
       "    }\n",
       "\n",
       "    .dataframe tbody tr th {\n",
       "        vertical-align: top;\n",
       "    }\n",
       "\n",
       "    .dataframe thead th {\n",
       "        text-align: right;\n",
       "    }\n",
       "</style>\n",
       "<table border=\"1\" class=\"dataframe\">\n",
       "  <thead>\n",
       "    <tr style=\"text-align: right;\">\n",
       "      <th></th>\n",
       "      <th>year</th>\n",
       "      <th>month</th>\n",
       "      <th>rain</th>\n",
       "    </tr>\n",
       "  </thead>\n",
       "  <tbody>\n",
       "    <tr>\n",
       "      <td>0</td>\n",
       "      <td>1959</td>\n",
       "      <td>11</td>\n",
       "      <td>193.0</td>\n",
       "    </tr>\n",
       "    <tr>\n",
       "      <td>1</td>\n",
       "      <td>1959</td>\n",
       "      <td>12</td>\n",
       "      <td>295.4</td>\n",
       "    </tr>\n",
       "    <tr>\n",
       "      <td>2</td>\n",
       "      <td>1960</td>\n",
       "      <td>1</td>\n",
       "      <td>127.9</td>\n",
       "    </tr>\n",
       "    <tr>\n",
       "      <td>3</td>\n",
       "      <td>1960</td>\n",
       "      <td>2</td>\n",
       "      <td>106.1</td>\n",
       "    </tr>\n",
       "    <tr>\n",
       "      <td>4</td>\n",
       "      <td>1960</td>\n",
       "      <td>3</td>\n",
       "      <td>53.9</td>\n",
       "    </tr>\n",
       "    <tr>\n",
       "      <td>...</td>\n",
       "      <td>...</td>\n",
       "      <td>...</td>\n",
       "      <td>...</td>\n",
       "    </tr>\n",
       "    <tr>\n",
       "      <td>717</td>\n",
       "      <td>2019</td>\n",
       "      <td>8</td>\n",
       "      <td>221.9</td>\n",
       "    </tr>\n",
       "    <tr>\n",
       "      <td>718</td>\n",
       "      <td>2019</td>\n",
       "      <td>9</td>\n",
       "      <td>166.3</td>\n",
       "    </tr>\n",
       "    <tr>\n",
       "      <td>719</td>\n",
       "      <td>2019</td>\n",
       "      <td>10</td>\n",
       "      <td>152.0</td>\n",
       "    </tr>\n",
       "    <tr>\n",
       "      <td>720</td>\n",
       "      <td>2019</td>\n",
       "      <td>11</td>\n",
       "      <td>142.5</td>\n",
       "    </tr>\n",
       "    <tr>\n",
       "      <td>721</td>\n",
       "      <td>2019</td>\n",
       "      <td>12</td>\n",
       "      <td>217.3</td>\n",
       "    </tr>\n",
       "  </tbody>\n",
       "</table>\n",
       "<p>722 rows × 3 columns</p>\n",
       "</div>"
      ],
      "text/plain": [
       "     year  month   rain\n",
       "0    1959     11  193.0\n",
       "1    1959     12  295.4\n",
       "2    1960      1  127.9\n",
       "3    1960      2  106.1\n",
       "4    1960      3   53.9\n",
       "..    ...    ...    ...\n",
       "717  2019      8  221.9\n",
       "718  2019      9  166.3\n",
       "719  2019     10  152.0\n",
       "720  2019     11  142.5\n",
       "721  2019     12  217.3\n",
       "\n",
       "[722 rows x 3 columns]"
      ]
     },
     "execution_count": 12,
     "metadata": {},
     "output_type": "execute_result"
    }
   ],
   "source": [
    "mydata=pd.read_csv(\"mly833.csv\")\n",
    "mydata"
   ]
  },
  {
   "cell_type": "code",
   "execution_count": 13,
   "metadata": {
    "ExecuteTime": {
     "end_time": "2020-03-20T03:43:57.985085Z",
     "start_time": "2020-03-20T03:43:57.970303Z"
    }
   },
   "outputs": [
    {
     "data": {
      "text/plain": [
       "0      193.0\n",
       "1      295.4\n",
       "2      127.9\n",
       "3      106.1\n",
       "4       53.9\n",
       "       ...  \n",
       "717    221.9\n",
       "718    166.3\n",
       "719    152.0\n",
       "720    142.5\n",
       "721    217.3\n",
       "Name: rain, Length: 722, dtype: float64"
      ]
     },
     "execution_count": 13,
     "metadata": {},
     "output_type": "execute_result"
    }
   ],
   "source": [
    "tseries=mydata['rain']\n",
    "tseries"
   ]
  },
  {
   "cell_type": "code",
   "execution_count": 14,
   "metadata": {
    "ExecuteTime": {
     "end_time": "2020-03-20T03:44:00.860019Z",
     "start_time": "2020-03-20T03:44:00.850380Z"
    }
   },
   "outputs": [
    {
     "data": {
      "text/plain": [
       "pandas.core.series.Series"
      ]
     },
     "execution_count": 14,
     "metadata": {},
     "output_type": "execute_result"
    }
   ],
   "source": [
    "type(tseries)"
   ]
  },
  {
   "cell_type": "code",
   "execution_count": 15,
   "metadata": {
    "ExecuteTime": {
     "end_time": "2020-03-20T03:44:01.925237Z",
     "start_time": "2020-03-20T03:44:01.831222Z"
    }
   },
   "outputs": [
    {
     "name": "stdout",
     "output_type": "stream",
     "text": [
      "ADF Statistic: -5.927739\n",
      "p-value: 0.000000\n",
      "Critical Values:\n",
      "\t1%: -3.440\n",
      "\t5%: -2.866\n",
      "\t10%: -2.569\n"
     ]
    }
   ],
   "source": [
    "\n",
    "from statsmodels.tsa.stattools import adfuller\n",
    "result = adfuller(tseries)\n",
    "print('ADF Statistic: %f' % result[0])\n",
    "print('p-value: %f' % result[1])\n",
    "print('Critical Values:')\n",
    "for key, value in result[4].items():\n",
    "    print('\\t%s: %.3f' % (key, value))"
   ]
  },
  {
   "cell_type": "code",
   "execution_count": 17,
   "metadata": {
    "ExecuteTime": {
     "end_time": "2020-03-20T03:44:24.173134Z",
     "start_time": "2020-03-20T03:44:23.834634Z"
    }
   },
   "outputs": [
    {
     "data": {
      "image/png": "[encoded data removed]",
      "text/plain": [
       "<Figure size 432x288 with 1 Axes>"
      ]
     },
     "metadata": {
      "needs_background": "light"
     },
     "output_type": "display_data"
    }
   ],
   "source": [
    "import matplotlib.pyplot as plt\n",
    "plt.plot(tseries)\n",
    "plt.tick_params(\n",
    "    axis='x',          # changes apply to the x-axis\n",
    "    which='both',      # both major and minor ticks are affected\n",
    "    bottom=False,      # ticks along the bottom edge are off\n",
    "    top=False,         # ticks along the top edge are off\n",
    "    labelbottom=False) # labels along the bottom edge are off\n",
    "plt.ylabel('Rainfall')\n",
    "plt.title(\"Rainfall\")\n",
    "plt.show()"
   ]
  },
  {
   "cell_type": "code",
   "execution_count": 18,
   "metadata": {
    "ExecuteTime": {
     "end_time": "2020-03-20T03:44:28.597973Z",
     "start_time": "2020-03-20T03:44:28.574268Z"
    }
   },
   "outputs": [
    {
     "data": {
      "text/html": [
       "<div>\n",
       "<style scoped>\n",
       "    .dataframe tbody tr th:only-of-type {\n",
       "        vertical-align: middle;\n",
       "    }\n",
       "\n",
       "    .dataframe tbody tr th {\n",
       "        vertical-align: top;\n",
       "    }\n",
       "\n",
       "    .dataframe thead th {\n",
       "        text-align: right;\n",
       "    }\n",
       "</style>\n",
       "<table border=\"1\" class=\"dataframe\">\n",
       "  <thead>\n",
       "    <tr style=\"text-align: right;\">\n",
       "      <th></th>\n",
       "      <th>rain</th>\n",
       "    </tr>\n",
       "  </thead>\n",
       "  <tbody>\n",
       "    <tr>\n",
       "      <td>0</td>\n",
       "      <td>193.0</td>\n",
       "    </tr>\n",
       "    <tr>\n",
       "      <td>1</td>\n",
       "      <td>295.4</td>\n",
       "    </tr>\n",
       "    <tr>\n",
       "      <td>2</td>\n",
       "      <td>127.9</td>\n",
       "    </tr>\n",
       "    <tr>\n",
       "      <td>3</td>\n",
       "      <td>106.1</td>\n",
       "    </tr>\n",
       "    <tr>\n",
       "      <td>4</td>\n",
       "      <td>53.9</td>\n",
       "    </tr>\n",
       "    <tr>\n",
       "      <td>...</td>\n",
       "      <td>...</td>\n",
       "    </tr>\n",
       "    <tr>\n",
       "      <td>717</td>\n",
       "      <td>221.9</td>\n",
       "    </tr>\n",
       "    <tr>\n",
       "      <td>718</td>\n",
       "      <td>166.3</td>\n",
       "    </tr>\n",
       "    <tr>\n",
       "      <td>719</td>\n",
       "      <td>152.0</td>\n",
       "    </tr>\n",
       "    <tr>\n",
       "      <td>720</td>\n",
       "      <td>142.5</td>\n",
       "    </tr>\n",
       "    <tr>\n",
       "      <td>721</td>\n",
       "      <td>217.3</td>\n",
       "    </tr>\n",
       "  </tbody>\n",
       "</table>\n",
       "<p>722 rows × 1 columns</p>\n",
       "</div>"
      ],
      "text/plain": [
       "      rain\n",
       "0    193.0\n",
       "1    295.4\n",
       "2    127.9\n",
       "3    106.1\n",
       "4     53.9\n",
       "..     ...\n",
       "717  221.9\n",
       "718  166.3\n",
       "719  152.0\n",
       "720  142.5\n",
       "721  217.3\n",
       "\n",
       "[722 rows x 1 columns]"
      ]
     },
     "execution_count": 18,
     "metadata": {},
     "output_type": "execute_result"
    }
   ],
   "source": [
    "df=pd.DataFrame(tseries)\n",
    "df"
   ]
  },
  {
   "cell_type": "code",
   "execution_count": 19,
   "metadata": {
    "ExecuteTime": {
     "end_time": "2020-03-20T03:44:29.768192Z",
     "start_time": "2020-03-20T03:44:29.745593Z"
    }
   },
   "outputs": [
    {
     "data": {
      "text/html": [
       "<div>\n",
       "<style scoped>\n",
       "    .dataframe tbody tr th:only-of-type {\n",
       "        vertical-align: middle;\n",
       "    }\n",
       "\n",
       "    .dataframe tbody tr th {\n",
       "        vertical-align: top;\n",
       "    }\n",
       "\n",
       "    .dataframe thead th {\n",
       "        text-align: right;\n",
       "    }\n",
       "</style>\n",
       "<table border=\"1\" class=\"dataframe\">\n",
       "  <thead>\n",
       "    <tr style=\"text-align: right;\">\n",
       "      <th></th>\n",
       "      <th>rain</th>\n",
       "    </tr>\n",
       "  </thead>\n",
       "  <tbody>\n",
       "    <tr>\n",
       "      <td>0</td>\n",
       "      <td>193.0</td>\n",
       "    </tr>\n",
       "    <tr>\n",
       "      <td>1</td>\n",
       "      <td>295.4</td>\n",
       "    </tr>\n",
       "    <tr>\n",
       "      <td>2</td>\n",
       "      <td>127.9</td>\n",
       "    </tr>\n",
       "    <tr>\n",
       "      <td>3</td>\n",
       "      <td>106.1</td>\n",
       "    </tr>\n",
       "    <tr>\n",
       "      <td>4</td>\n",
       "      <td>53.9</td>\n",
       "    </tr>\n",
       "    <tr>\n",
       "      <td>...</td>\n",
       "      <td>...</td>\n",
       "    </tr>\n",
       "    <tr>\n",
       "      <td>707</td>\n",
       "      <td>131.2</td>\n",
       "    </tr>\n",
       "    <tr>\n",
       "      <td>708</td>\n",
       "      <td>150.6</td>\n",
       "    </tr>\n",
       "    <tr>\n",
       "      <td>709</td>\n",
       "      <td>189.1</td>\n",
       "    </tr>\n",
       "    <tr>\n",
       "      <td>710</td>\n",
       "      <td>139.1</td>\n",
       "    </tr>\n",
       "    <tr>\n",
       "      <td>711</td>\n",
       "      <td>107.9</td>\n",
       "    </tr>\n",
       "  </tbody>\n",
       "</table>\n",
       "<p>712 rows × 1 columns</p>\n",
       "</div>"
      ],
      "text/plain": [
       "      rain\n",
       "0    193.0\n",
       "1    295.4\n",
       "2    127.9\n",
       "3    106.1\n",
       "4     53.9\n",
       "..     ...\n",
       "707  131.2\n",
       "708  150.6\n",
       "709  189.1\n",
       "710  139.1\n",
       "711  107.9\n",
       "\n",
       "[712 rows x 1 columns]"
      ]
     },
     "execution_count": 19,
     "metadata": {},
     "output_type": "execute_result"
    }
   ],
   "source": [
    "df = df[:712]\n",
    "df"
   ]
  },
  {
   "cell_type": "code",
   "execution_count": 21,
   "metadata": {
    "ExecuteTime": {
     "end_time": "2020-03-20T03:44:41.622618Z",
     "start_time": "2020-03-20T03:44:41.607954Z"
    }
   },
   "outputs": [],
   "source": [
    "# Form dataset matrix\n",
    "def create_dataset(df, previous=1):\n",
    "    dataX, dataY = [], []\n",
    "    for i in range(len(df)-previous-1):\n",
    "        a = df[i:(i+previous), 0]\n",
    "        dataX.append(a)\n",
    "        dataY.append(df[i + previous, 0])\n",
    "    return np.array(dataX), np.array(dataY)"
   ]
  },
  {
   "cell_type": "code",
   "execution_count": 22,
   "metadata": {
    "ExecuteTime": {
     "end_time": "2020-03-20T03:44:43.962910Z",
     "start_time": "2020-03-20T03:44:43.721523Z"
    }
   },
   "outputs": [
    {
     "data": {
      "text/plain": [
       "array([[0.53242707],\n",
       "       [0.82242991],\n",
       "       [0.34806004],\n",
       "       [0.28632116],\n",
       "       [0.13848768],\n",
       "       [0.34494477],\n",
       "       [0.14811668],\n",
       "       [0.33050127],\n",
       "       [0.39139054],\n",
       "       [0.31067686],\n",
       "       [0.31634098],\n",
       "       [0.19003115],\n",
       "       [0.62390258],\n",
       "       [0.5865194 ],\n",
       "       [0.54007363],\n",
       "       [0.36731804],\n",
       "       [0.13055792],\n",
       "       [0.25828377],\n",
       "       [0.16737468],\n",
       "       [0.24468989],\n",
       "       [0.48937978],\n",
       "       [0.44038516],\n",
       "       [0.4709714 ],\n",
       "       [0.57320872],\n",
       "       [0.37751345],\n",
       "       [0.39025772],\n",
       "       [0.58850184],\n",
       "       [0.34211272],\n",
       "       [0.35032569],\n",
       "       [0.3268196 ],\n",
       "       [0.1922968 ],\n",
       "       [0.23760974],\n",
       "       [0.20504106],\n",
       "       [0.44916454],\n",
       "       [0.47352025],\n",
       "       [0.25403568],\n",
       "       [0.42367601],\n",
       "       [0.50438969],\n",
       "       [0.05947324],\n",
       "       [0.11894647],\n",
       "       [0.42877372],\n",
       "       [0.26649674],\n",
       "       [0.3367318 ],\n",
       "       [0.25630133],\n",
       "       [0.27131124],\n",
       "       [0.32427074],\n",
       "       [0.36731804],\n",
       "       [0.42962334],\n",
       "       [0.62956669],\n",
       "       [0.13622203],\n",
       "       [0.23647692],\n",
       "       [0.09742283],\n",
       "       [0.24214104],\n",
       "       [0.2163693 ],\n",
       "       [0.31804022],\n",
       "       [0.23251204],\n",
       "       [0.28745398],\n",
       "       [0.37751345],\n",
       "       [0.57377513],\n",
       "       [0.51203625],\n",
       "       [0.42622487],\n",
       "       [0.57094308],\n",
       "       [0.70943076],\n",
       "       [0.04672897],\n",
       "       [0.32540357],\n",
       "       [0.4372699 ],\n",
       "       [0.2452563 ],\n",
       "       [0.41857831],\n",
       "       [0.19484565],\n",
       "       [0.32455395],\n",
       "       [0.42537525],\n",
       "       [0.45341263],\n",
       "       [0.50297366],\n",
       "       [0.62560181],\n",
       "       [0.2883036 ],\n",
       "       [0.39790428],\n",
       "       [0.37156613],\n",
       "       [0.3171906 ],\n",
       "       [0.43500425],\n",
       "       [0.33814783],\n",
       "       [0.21580289],\n",
       "       [0.19342962],\n",
       "       [0.28462192],\n",
       "       [0.2931181 ],\n",
       "       [0.41716228],\n",
       "       [0.95497026],\n",
       "       [0.2931181 ],\n",
       "       [0.32936845],\n",
       "       [0.43642028],\n",
       "       [0.23421127],\n",
       "       [0.3171906 ],\n",
       "       [0.15802889],\n",
       "       [0.32115548],\n",
       "       [0.27329368],\n",
       "       [0.51090343],\n",
       "       [0.71990937],\n",
       "       [0.43302181],\n",
       "       [0.38232795],\n",
       "       [0.60379496],\n",
       "       [0.12800906],\n",
       "       [0.36788445],\n",
       "       [0.16765789],\n",
       "       [0.23449448],\n",
       "       [0.17133956],\n",
       "       [0.13055792],\n",
       "       [0.44066837],\n",
       "       [0.45284622],\n",
       "       [0.50580572],\n",
       "       [0.45001416],\n",
       "       [0.40894931],\n",
       "       [0.46049278],\n",
       "       [0.26508071],\n",
       "       [0.1634098 ],\n",
       "       [0.22571509],\n",
       "       [0.15038233],\n",
       "       [0.29849901],\n",
       "       [0.10818465],\n",
       "       [0.21042198],\n",
       "       [0.16765789],\n",
       "       [0.28518833],\n",
       "       [0.51713396],\n",
       "       [0.49079581],\n",
       "       [0.18606627],\n",
       "       [0.74199943],\n",
       "       [0.38770886],\n",
       "       [0.41121495],\n",
       "       [0.1107335 ],\n",
       "       [0.14811668],\n",
       "       [0.34862645],\n",
       "       [0.31464174],\n",
       "       [0.48314925],\n",
       "       [0.62475219],\n",
       "       [0.55168508],\n",
       "       [0.21835174],\n",
       "       [0.35542339],\n",
       "       [0.36618522],\n",
       "       [0.24072501],\n",
       "       [0.0815633 ],\n",
       "       [0.15463042],\n",
       "       [0.31067686],\n",
       "       [0.13084112],\n",
       "       [0.20419145],\n",
       "       [0.23024639],\n",
       "       [0.30331351],\n",
       "       [0.58595299],\n",
       "       [0.19314642],\n",
       "       [0.29651657],\n",
       "       [0.2645143 ],\n",
       "       [0.38176154],\n",
       "       [0.3845936 ],\n",
       "       [0.38572642],\n",
       "       [0.24752195],\n",
       "       [0.12687624],\n",
       "       [0.18210139],\n",
       "       [0.02237327],\n",
       "       [0.15491362],\n",
       "       [0.52931181],\n",
       "       [0.46587369],\n",
       "       [0.46304163],\n",
       "       [0.41036534],\n",
       "       [0.21750212],\n",
       "       [0.20589068],\n",
       "       [0.31407533],\n",
       "       [0.17558765],\n",
       "       [0.16907392],\n",
       "       [0.44463325],\n",
       "       [0.25290286],\n",
       "       [0.29085245],\n",
       "       [0.66581705],\n",
       "       [0.40611725],\n",
       "       [0.62588502],\n",
       "       [0.3990371 ],\n",
       "       [0.23845936],\n",
       "       [0.03993203],\n",
       "       [0.19088077],\n",
       "       [0.17417162],\n",
       "       [0.35287454],\n",
       "       [0.38572642],\n",
       "       [0.52081563],\n",
       "       [0.30048145],\n",
       "       [0.51600113],\n",
       "       [0.55848202],\n",
       "       [0.72387426],\n",
       "       [0.07080147],\n",
       "       [0.1874823 ],\n",
       "       [0.29679977],\n",
       "       [0.03625035],\n",
       "       [0.12064571],\n",
       "       [0.4613424 ],\n",
       "       [0.24129142],\n",
       "       [0.33050127],\n",
       "       [0.40073634],\n",
       "       [0.42764089],\n",
       "       [0.21495327],\n",
       "       [0.62730105],\n",
       "       [0.19088077],\n",
       "       [0.33616539],\n",
       "       [0.15774568],\n",
       "       [0.36222033],\n",
       "       [0.16737468],\n",
       "       [0.15746248],\n",
       "       [0.00226565],\n",
       "       [0.24412348],\n",
       "       [0.37864628],\n",
       "       [0.38742566],\n",
       "       [0.40583404],\n",
       "       [0.31804022],\n",
       "       [0.34381195],\n",
       "       [0.41687907],\n",
       "       [0.40611725],\n",
       "       [0.09175871],\n",
       "       [0.25545171],\n",
       "       [0.20447465],\n",
       "       [0.26649674],\n",
       "       [0.3608043 ],\n",
       "       [0.55451713],\n",
       "       [0.6828094 ],\n",
       "       [0.38147833],\n",
       "       [0.63891249],\n",
       "       [0.2546021 ],\n",
       "       [0.7114132 ],\n",
       "       [0.0911923 ],\n",
       "       [0.07958086],\n",
       "       [0.21013877],\n",
       "       [0.19824412],\n",
       "       [0.30104786],\n",
       "       [0.68960634],\n",
       "       [0.18804871],\n",
       "       [0.5046729 ],\n",
       "       [0.49107901],\n",
       "       [0.37609742],\n",
       "       [0.15293118],\n",
       "       [0.51373549],\n",
       "       [0.30812801],\n",
       "       [0.38034551],\n",
       "       [0.12715944],\n",
       "       [0.17672048],\n",
       "       [0.50920419],\n",
       "       [0.39393939],\n",
       "       [0.39365619],\n",
       "       [0.60379496],\n",
       "       [0.57802322],\n",
       "       [0.36420278],\n",
       "       [0.31379213],\n",
       "       [0.35174172],\n",
       "       [0.03540074],\n",
       "       [0.05720759],\n",
       "       [0.46700651],\n",
       "       [0.42395922],\n",
       "       [0.27470971],\n",
       "       [0.72274143],\n",
       "       [0.51231946],\n",
       "       [0.53214387],\n",
       "       [0.82101388],\n",
       "       [0.43642028],\n",
       "       [0.28632116],\n",
       "       [0.48456528],\n",
       "       [0.12546021],\n",
       "       [0.42650807],\n",
       "       [0.23137921],\n",
       "       [0.29934863],\n",
       "       [0.27159445],\n",
       "       [0.6828094 ],\n",
       "       [0.58057208],\n",
       "       [0.33389975],\n",
       "       [0.33503257],\n",
       "       [0.3797791 ],\n",
       "       [0.32370433],\n",
       "       [0.49164543],\n",
       "       [0.07278391],\n",
       "       [0.23902577],\n",
       "       [0.32625319],\n",
       "       [0.05664118],\n",
       "       [0.36930048],\n",
       "       [0.31039366],\n",
       "       [0.42905692],\n",
       "       [0.57037666],\n",
       "       [0.83092608],\n",
       "       [0.56414613],\n",
       "       [0.24100821],\n",
       "       [0.55621637],\n",
       "       [0.24950439],\n",
       "       [0.24384027],\n",
       "       [0.10846786],\n",
       "       [0.10308694],\n",
       "       [0.11271594],\n",
       "       [0.48428207],\n",
       "       [0.72302464],\n",
       "       [0.21920136],\n",
       "       [0.47720193],\n",
       "       [0.82271311],\n",
       "       [0.36873407],\n",
       "       [0.19484565],\n",
       "       [0.18549986],\n",
       "       [0.07448315],\n",
       "       [0.20560748],\n",
       "       [0.11129992],\n",
       "       [0.2019258 ],\n",
       "       [0.44746531],\n",
       "       [0.68875673],\n",
       "       [0.44661569],\n",
       "       [0.49079581],\n",
       "       [0.3027471 ],\n",
       "       [0.14556783],\n",
       "       [0.46077598],\n",
       "       [0.27216086],\n",
       "       [0.36420278],\n",
       "       [0.21948457],\n",
       "       [0.29113566],\n",
       "       [0.72160861],\n",
       "       [0.6779949 ],\n",
       "       [0.21325404],\n",
       "       [0.19852733],\n",
       "       [0.44888134],\n",
       "       [0.60294534],\n",
       "       [0.        ],\n",
       "       [0.59190031],\n",
       "       [0.38374398],\n",
       "       [0.56669499],\n",
       "       [0.27470971],\n",
       "       [0.26168224],\n",
       "       [0.43953554],\n",
       "       [0.05664118],\n",
       "       [0.60436137],\n",
       "       [0.62305296],\n",
       "       [0.75672614],\n",
       "       [0.21523648],\n",
       "       [0.2642311 ],\n",
       "       [0.42650807],\n",
       "       [0.14330218],\n",
       "       [0.17926933],\n",
       "       [0.22288304],\n",
       "       [0.28094024],\n",
       "       [0.38402719],\n",
       "       [0.40441801],\n",
       "       [0.4998584 ],\n",
       "       [0.44095157],\n",
       "       [0.28547154],\n",
       "       [0.72670632],\n",
       "       [0.39365619],\n",
       "       [0.64259417],\n",
       "       [0.13877089],\n",
       "       [0.17983574],\n",
       "       [0.13622203],\n",
       "       [0.44123478],\n",
       "       [0.5046729 ],\n",
       "       [0.48031719],\n",
       "       [0.48881337],\n",
       "       [0.24157462],\n",
       "       [0.31152648],\n",
       "       [0.37354857],\n",
       "       [0.48711413],\n",
       "       [0.47153781],\n",
       "       [0.20475786],\n",
       "       [0.11271594],\n",
       "       [0.27584254],\n",
       "       [0.09260833],\n",
       "       [0.53242707],\n",
       "       [0.19937695],\n",
       "       [0.86094591],\n",
       "       [0.30472954],\n",
       "       [0.36930048],\n",
       "       [0.64684225],\n",
       "       [0.73803455],\n",
       "       [0.30019824],\n",
       "       [0.35004248],\n",
       "       [0.04502974],\n",
       "       [0.31520816],\n",
       "       [0.21495327],\n",
       "       [0.25828377],\n",
       "       [0.20589068],\n",
       "       [0.75700935],\n",
       "       [0.41886151],\n",
       "       [0.69413764],\n",
       "       [0.41263098],\n",
       "       [0.27074483],\n",
       "       [0.33899745],\n",
       "       [0.58878505],\n",
       "       [0.06428774],\n",
       "       [0.31464174],\n",
       "       [0.32257151],\n",
       "       [0.24129142],\n",
       "       [0.2594166 ],\n",
       "       [0.38855848],\n",
       "       [0.56301331],\n",
       "       [0.45567828],\n",
       "       [0.2885868 ],\n",
       "       [0.38176154],\n",
       "       [0.54743699],\n",
       "       [0.38685925],\n",
       "       [0.26593033],\n",
       "       [0.13112433],\n",
       "       [0.35825545],\n",
       "       [0.57490796],\n",
       "       [0.38431039],\n",
       "       [0.45426225],\n",
       "       [0.68649108],\n",
       "       [0.38600963],\n",
       "       [0.60945908],\n",
       "       [0.1682243 ],\n",
       "       [0.23987539],\n",
       "       [0.34466157],\n",
       "       [0.42509204],\n",
       "       [0.29623336],\n",
       "       [0.32823563],\n",
       "       [0.22684792],\n",
       "       [0.27159445],\n",
       "       [0.13792127],\n",
       "       [0.22090059],\n",
       "       [0.94165959],\n",
       "       [0.68111017],\n",
       "       [0.30671198],\n",
       "       [0.74341546],\n",
       "       [0.4519966 ],\n",
       "       [0.23591051],\n",
       "       [0.32455395],\n",
       "       [0.23336165],\n",
       "       [0.2500708 ],\n",
       "       [0.20702351],\n",
       "       [0.24157462],\n",
       "       [0.37269895],\n",
       "       [0.69385443],\n",
       "       [0.61144152],\n",
       "       [0.44973095],\n",
       "       [0.50184084],\n",
       "       [0.16595865],\n",
       "       [0.22429907],\n",
       "       [0.08382894],\n",
       "       [0.35514019],\n",
       "       [0.01614274],\n",
       "       [0.27669216],\n",
       "       [0.4905126 ],\n",
       "       [0.37298216],\n",
       "       [0.16964033],\n",
       "       [0.18408383],\n",
       "       [0.51543472],\n",
       "       [0.20249221],\n",
       "       [0.23817615],\n",
       "       [0.2452563 ],\n",
       "       [0.14500142],\n",
       "       [0.26564713],\n",
       "       [0.29396771],\n",
       "       [0.18946474],\n",
       "       [0.58085528],\n",
       "       [0.51175304],\n",
       "       [0.25035401],\n",
       "       [0.06513735],\n",
       "       [0.55451713],\n",
       "       [0.23789295],\n",
       "       [0.10676862],\n",
       "       [0.26876239],\n",
       "       [0.21240442],\n",
       "       [0.33786463],\n",
       "       [0.28802039],\n",
       "       [0.3364486 ],\n",
       "       [0.26026621],\n",
       "       [0.35627301],\n",
       "       [0.63523081],\n",
       "       [0.45482866],\n",
       "       [0.36222033],\n",
       "       [0.33135089],\n",
       "       [0.26054942],\n",
       "       [0.17417162],\n",
       "       [0.41404701],\n",
       "       [0.39705466],\n",
       "       [0.66241858],\n",
       "       [0.25771736],\n",
       "       [0.67346361],\n",
       "       [0.5001416 ],\n",
       "       [0.54856981],\n",
       "       [0.64485981],\n",
       "       [0.46474087],\n",
       "       [0.30529595],\n",
       "       [0.40498442],\n",
       "       [0.22175021],\n",
       "       [0.21070518],\n",
       "       [0.2500708 ],\n",
       "       [0.38232795],\n",
       "       [0.51146984],\n",
       "       [0.3078448 ],\n",
       "       [0.58991787],\n",
       "       [1.        ],\n",
       "       [0.36306995],\n",
       "       [0.61908808],\n",
       "       [0.33474936],\n",
       "       [0.31407533],\n",
       "       [0.21297083],\n",
       "       [0.23336165],\n",
       "       [0.14613424],\n",
       "       [0.53214387],\n",
       "       [0.41064854],\n",
       "       [0.85188332],\n",
       "       [0.63211555],\n",
       "       [0.48343246],\n",
       "       [0.21467007],\n",
       "       [0.24468989],\n",
       "       [0.26054942],\n",
       "       [0.2546021 ],\n",
       "       [0.13905409],\n",
       "       [0.30246389],\n",
       "       [0.25885018],\n",
       "       [0.48258284],\n",
       "       [0.18096856],\n",
       "       [0.38714245],\n",
       "       [0.48513169],\n",
       "       [0.26338148],\n",
       "       [0.38714245],\n",
       "       [0.72557349],\n",
       "       [0.26168224],\n",
       "       [0.30161427],\n",
       "       [0.32257151],\n",
       "       [0.41631266],\n",
       "       [0.20815633],\n",
       "       [0.31379213],\n",
       "       [0.09515718],\n",
       "       [0.56329652],\n",
       "       [0.63806287],\n",
       "       [0.3653356 ],\n",
       "       [0.3701501 ],\n",
       "       [0.23789295],\n",
       "       [0.24129142],\n",
       "       [0.17332201],\n",
       "       [0.54885302],\n",
       "       [0.17983574],\n",
       "       [0.27442651],\n",
       "       [0.13735486],\n",
       "       [0.2594166 ],\n",
       "       [0.29934863],\n",
       "       [0.53752478],\n",
       "       [0.40101954],\n",
       "       [0.51486831],\n",
       "       [0.18946474],\n",
       "       [0.3364486 ],\n",
       "       [0.3174738 ],\n",
       "       [0.21806854],\n",
       "       [0.30104786],\n",
       "       [0.28037383],\n",
       "       [0.27640895],\n",
       "       [0.5482866 ],\n",
       "       [0.53186066],\n",
       "       [0.30926083],\n",
       "       [0.65477202],\n",
       "       [0.79637496],\n",
       "       [0.28178986],\n",
       "       [0.20334183],\n",
       "       [0.33928066],\n",
       "       [0.38232795],\n",
       "       [0.26083263],\n",
       "       [0.1104503 ],\n",
       "       [0.3605211 ],\n",
       "       [0.33588219],\n",
       "       [0.3653356 ],\n",
       "       [0.52761257],\n",
       "       [0.4471821 ],\n",
       "       [0.25743415],\n",
       "       [0.26819598],\n",
       "       [0.36760125],\n",
       "       [0.28178986],\n",
       "       [0.36986689],\n",
       "       [0.09289153],\n",
       "       [0.15264798],\n",
       "       [0.18125177],\n",
       "       [0.49221184],\n",
       "       [0.48994619],\n",
       "       [0.53044463],\n",
       "       [0.72302464],\n",
       "       [0.56046446],\n",
       "       [0.31605777],\n",
       "       [0.30727839],\n",
       "       [0.14358539],\n",
       "       [0.33021807],\n",
       "       [0.32880204],\n",
       "       [0.5287454 ],\n",
       "       [0.23336165],\n",
       "       [0.3268196 ],\n",
       "       [0.24638912],\n",
       "       [0.35910507],\n",
       "       [0.56782781],\n",
       "       [0.62871708],\n",
       "       [0.37524781],\n",
       "       [0.63777967],\n",
       "       [0.17728689],\n",
       "       [0.06825262],\n",
       "       [0.3463608 ],\n",
       "       [0.16142736],\n",
       "       [0.6057774 ],\n",
       "       [0.49249504],\n",
       "       [0.6921552 ],\n",
       "       [0.49362787],\n",
       "       [0.35202492],\n",
       "       [0.39308978],\n",
       "       [0.16086095],\n",
       "       [0.33446616],\n",
       "       [0.29963183],\n",
       "       [0.35060889],\n",
       "       [0.17700368],\n",
       "       [0.67629567],\n",
       "       [0.70716511],\n",
       "       [0.23251204],\n",
       "       [0.3605211 ],\n",
       "       [0.89946191],\n",
       "       [0.36476919],\n",
       "       [0.22939677],\n",
       "       [0.18153498],\n",
       "       [0.21948457],\n",
       "       [0.12404418],\n",
       "       [0.12234494],\n",
       "       [0.11129992],\n",
       "       [0.35202492],\n",
       "       [0.26961201],\n",
       "       [0.72897196],\n",
       "       [0.34239592],\n",
       "       [0.66581705],\n",
       "       [0.18351742],\n",
       "       [0.23619371],\n",
       "       [0.53157746],\n",
       "       [0.21976777],\n",
       "       [0.23845936],\n",
       "       [0.4420844 ],\n",
       "       [0.25800057],\n",
       "       [0.18210139],\n",
       "       [0.36845086],\n",
       "       [0.54970263],\n",
       "       [0.7694704 ],\n",
       "       [0.45879354],\n",
       "       [0.81676579],\n",
       "       [0.51260266],\n",
       "       [0.46445766],\n",
       "       [0.18606627],\n",
       "       [0.2308128 ],\n",
       "       [0.2067403 ],\n",
       "       [0.49192863],\n",
       "       [0.30048145],\n",
       "       [0.27782498],\n",
       "       [0.54007363],\n",
       "       [0.32115548],\n",
       "       [0.48343246],\n",
       "       [0.51600113],\n",
       "       [0.5961484 ],\n",
       "       [0.25290286],\n",
       "       [0.15689606],\n",
       "       [0.34324554],\n",
       "       [0.4372699 ],\n",
       "       [0.16935712],\n",
       "       [0.25375248],\n",
       "       [0.27357689],\n",
       "       [0.25120363],\n",
       "       [0.30104786],\n",
       "       [0.32427074],\n",
       "       [0.5386576 ],\n",
       "       [0.82384594],\n",
       "       [0.70150099],\n",
       "       [0.34069669],\n",
       "       [0.13140753],\n",
       "       [0.35882186],\n",
       "       [0.20928915],\n",
       "       [0.23421127],\n",
       "       [0.31435854],\n",
       "       [0.02917021],\n",
       "       [0.43557066],\n",
       "       [0.36703483],\n",
       "       [0.78646276],\n",
       "       [0.71481167],\n",
       "       [0.40753328],\n",
       "       [0.41064854],\n",
       "       [0.32965166],\n",
       "       [0.4420844 ],\n",
       "       [0.12687624],\n",
       "       [0.41716228],\n",
       "       [0.30869442],\n",
       "       [0.42707448],\n",
       "       [0.22741433],\n",
       "       [0.93571226],\n",
       "       [0.77428491],\n",
       "       [0.51316907],\n",
       "       [0.68139337],\n",
       "       [0.38091192],\n",
       "       [0.25913339],\n",
       "       [0.13055792],\n",
       "       [0.34692722],\n",
       "       [0.27782498],\n",
       "       [0.35967148],\n",
       "       [0.54120646],\n",
       "       [0.10280374],\n",
       "       [0.43896913],\n",
       "       [0.25856698],\n",
       "       [0.24695554],\n",
       "       [0.38714245],\n",
       "       [0.62531861],\n",
       "       [0.0574908 ],\n",
       "       [0.16425942],\n",
       "       [0.26564713],\n",
       "       [0.50184084],\n",
       "       [0.51316907],\n",
       "       [0.40158595],\n",
       "       [0.48768054],\n",
       "       [0.5720759 ],\n",
       "       [0.49929199],\n",
       "       [0.74964599],\n",
       "       [0.42480884],\n",
       "       [0.23307845],\n",
       "       [0.22996318],\n",
       "       [0.16624186],\n",
       "       [0.15972812],\n",
       "       [0.14273577],\n",
       "       [0.48116681],\n",
       "       [0.38855848],\n",
       "       [0.35740583],\n",
       "       [0.41234778],\n",
       "       [0.52138204],\n",
       "       [0.3797791 ],\n",
       "       [0.29141886]])"
      ]
     },
     "execution_count": 22,
     "metadata": {},
     "output_type": "execute_result"
    }
   ],
   "source": [
    "\n",
    "# normalize dataset with MinMaxScaler\n",
    "scaler = MinMaxScaler(feature_range=(0, 1))\n",
    "df = scaler.fit_transform(df)\n",
    "df"
   ]
  },
  {
   "cell_type": "code",
   "execution_count": 23,
   "metadata": {
    "ExecuteTime": {
     "end_time": "2020-03-20T03:44:50.101294Z",
     "start_time": "2020-03-20T03:44:50.080509Z"
    }
   },
   "outputs": [],
   "source": [
    "import tensorflow as tf\n",
    "from tensorflow.keras import layers\n",
    "from tensorflow.keras.layers import Dense\n",
    "from tensorflow.keras.layers import LSTM\n",
    "\n",
    "# Training and Validation data partition\n",
    "train_size = int(len(df) * 0.8)\n",
    "val_size = len(df) - train_size\n",
    "train, val = df[0:train_size,:], df[train_size:len(df),:]\n",
    "\n",
    "# Number of previous\n",
    "previous = 120\n",
    "X_train, Y_train = create_dataset(train, previous)\n",
    "X_val, Y_val = create_dataset(val, previous)\n"
   ]
  },
  {
   "cell_type": "code",
   "execution_count": 24,
   "metadata": {
    "ExecuteTime": {
     "end_time": "2020-03-20T03:45:08.675481Z",
     "start_time": "2020-03-20T03:45:08.663787Z"
    }
   },
   "outputs": [
    {
     "data": {
      "text/plain": [
       "array([[0.53242707, 0.82242991, 0.34806004, ..., 0.21042198, 0.16765789,\n",
       "        0.28518833],\n",
       "       [0.82242991, 0.34806004, 0.28632116, ..., 0.16765789, 0.28518833,\n",
       "        0.51713396],\n",
       "       [0.34806004, 0.28632116, 0.13848768, ..., 0.28518833, 0.51713396,\n",
       "        0.49079581],\n",
       "       ...,\n",
       "       [0.25035401, 0.06513735, 0.55451713, ..., 0.49221184, 0.48994619,\n",
       "        0.53044463],\n",
       "       [0.06513735, 0.55451713, 0.23789295, ..., 0.48994619, 0.53044463,\n",
       "        0.72302464],\n",
       "       [0.55451713, 0.23789295, 0.10676862, ..., 0.53044463, 0.72302464,\n",
       "        0.56046446]])"
      ]
     },
     "execution_count": 24,
     "metadata": {},
     "output_type": "execute_result"
    }
   ],
   "source": [
    "X_train"
   ]
  },
  {
   "cell_type": "code",
   "execution_count": 25,
   "metadata": {
    "ExecuteTime": {
     "end_time": "2020-03-20T03:45:10.897055Z",
     "start_time": "2020-03-20T03:45:10.871710Z"
    }
   },
   "outputs": [
    {
     "data": {
      "text/plain": [
       "array([0.51713396, 0.49079581, 0.18606627, 0.74199943, 0.38770886,\n",
       "       0.41121495, 0.1107335 , 0.14811668, 0.34862645, 0.31464174,\n",
       "       0.48314925, 0.62475219, 0.55168508, 0.21835174, 0.35542339,\n",
       "       0.36618522, 0.24072501, 0.0815633 , 0.15463042, 0.31067686,\n",
       "       0.13084112, 0.20419145, 0.23024639, 0.30331351, 0.58595299,\n",
       "       0.19314642, 0.29651657, 0.2645143 , 0.38176154, 0.3845936 ,\n",
       "       0.38572642, 0.24752195, 0.12687624, 0.18210139, 0.02237327,\n",
       "       0.15491362, 0.52931181, 0.46587369, 0.46304163, 0.41036534,\n",
       "       0.21750212, 0.20589068, 0.31407533, 0.17558765, 0.16907392,\n",
       "       0.44463325, 0.25290286, 0.29085245, 0.66581705, 0.40611725,\n",
       "       0.62588502, 0.3990371 , 0.23845936, 0.03993203, 0.19088077,\n",
       "       0.17417162, 0.35287454, 0.38572642, 0.52081563, 0.30048145,\n",
       "       0.51600113, 0.55848202, 0.72387426, 0.07080147, 0.1874823 ,\n",
       "       0.29679977, 0.03625035, 0.12064571, 0.4613424 , 0.24129142,\n",
       "       0.33050127, 0.40073634, 0.42764089, 0.21495327, 0.62730105,\n",
       "       0.19088077, 0.33616539, 0.15774568, 0.36222033, 0.16737468,\n",
       "       0.15746248, 0.00226565, 0.24412348, 0.37864628, 0.38742566,\n",
       "       0.40583404, 0.31804022, 0.34381195, 0.41687907, 0.40611725,\n",
       "       0.09175871, 0.25545171, 0.20447465, 0.26649674, 0.3608043 ,\n",
       "       0.55451713, 0.6828094 , 0.38147833, 0.63891249, 0.2546021 ,\n",
       "       0.7114132 , 0.0911923 , 0.07958086, 0.21013877, 0.19824412,\n",
       "       0.30104786, 0.68960634, 0.18804871, 0.5046729 , 0.49107901,\n",
       "       0.37609742, 0.15293118, 0.51373549, 0.30812801, 0.38034551,\n",
       "       0.12715944, 0.17672048, 0.50920419, 0.39393939, 0.39365619,\n",
       "       0.60379496, 0.57802322, 0.36420278, 0.31379213, 0.35174172,\n",
       "       0.03540074, 0.05720759, 0.46700651, 0.42395922, 0.27470971,\n",
       "       0.72274143, 0.51231946, 0.53214387, 0.82101388, 0.43642028,\n",
       "       0.28632116, 0.48456528, 0.12546021, 0.42650807, 0.23137921,\n",
       "       0.29934863, 0.27159445, 0.6828094 , 0.58057208, 0.33389975,\n",
       "       0.33503257, 0.3797791 , 0.32370433, 0.49164543, 0.07278391,\n",
       "       0.23902577, 0.32625319, 0.05664118, 0.36930048, 0.31039366,\n",
       "       0.42905692, 0.57037666, 0.83092608, 0.56414613, 0.24100821,\n",
       "       0.55621637, 0.24950439, 0.24384027, 0.10846786, 0.10308694,\n",
       "       0.11271594, 0.48428207, 0.72302464, 0.21920136, 0.47720193,\n",
       "       0.82271311, 0.36873407, 0.19484565, 0.18549986, 0.07448315,\n",
       "       0.20560748, 0.11129992, 0.2019258 , 0.44746531, 0.68875673,\n",
       "       0.44661569, 0.49079581, 0.3027471 , 0.14556783, 0.46077598,\n",
       "       0.27216086, 0.36420278, 0.21948457, 0.29113566, 0.72160861,\n",
       "       0.6779949 , 0.21325404, 0.19852733, 0.44888134, 0.60294534,\n",
       "       0.        , 0.59190031, 0.38374398, 0.56669499, 0.27470971,\n",
       "       0.26168224, 0.43953554, 0.05664118, 0.60436137, 0.62305296,\n",
       "       0.75672614, 0.21523648, 0.2642311 , 0.42650807, 0.14330218,\n",
       "       0.17926933, 0.22288304, 0.28094024, 0.38402719, 0.40441801,\n",
       "       0.4998584 , 0.44095157, 0.28547154, 0.72670632, 0.39365619,\n",
       "       0.64259417, 0.13877089, 0.17983574, 0.13622203, 0.44123478,\n",
       "       0.5046729 , 0.48031719, 0.48881337, 0.24157462, 0.31152648,\n",
       "       0.37354857, 0.48711413, 0.47153781, 0.20475786, 0.11271594,\n",
       "       0.27584254, 0.09260833, 0.53242707, 0.19937695, 0.86094591,\n",
       "       0.30472954, 0.36930048, 0.64684225, 0.73803455, 0.30019824,\n",
       "       0.35004248, 0.04502974, 0.31520816, 0.21495327, 0.25828377,\n",
       "       0.20589068, 0.75700935, 0.41886151, 0.69413764, 0.41263098,\n",
       "       0.27074483, 0.33899745, 0.58878505, 0.06428774, 0.31464174,\n",
       "       0.32257151, 0.24129142, 0.2594166 , 0.38855848, 0.56301331,\n",
       "       0.45567828, 0.2885868 , 0.38176154, 0.54743699, 0.38685925,\n",
       "       0.26593033, 0.13112433, 0.35825545, 0.57490796, 0.38431039,\n",
       "       0.45426225, 0.68649108, 0.38600963, 0.60945908, 0.1682243 ,\n",
       "       0.23987539, 0.34466157, 0.42509204, 0.29623336, 0.32823563,\n",
       "       0.22684792, 0.27159445, 0.13792127, 0.22090059, 0.94165959,\n",
       "       0.68111017, 0.30671198, 0.74341546, 0.4519966 , 0.23591051,\n",
       "       0.32455395, 0.23336165, 0.2500708 , 0.20702351, 0.24157462,\n",
       "       0.37269895, 0.69385443, 0.61144152, 0.44973095, 0.50184084,\n",
       "       0.16595865, 0.22429907, 0.08382894, 0.35514019, 0.01614274,\n",
       "       0.27669216, 0.4905126 , 0.37298216, 0.16964033, 0.18408383,\n",
       "       0.51543472, 0.20249221, 0.23817615, 0.2452563 , 0.14500142,\n",
       "       0.26564713, 0.29396771, 0.18946474, 0.58085528, 0.51175304,\n",
       "       0.25035401, 0.06513735, 0.55451713, 0.23789295, 0.10676862,\n",
       "       0.26876239, 0.21240442, 0.33786463, 0.28802039, 0.3364486 ,\n",
       "       0.26026621, 0.35627301, 0.63523081, 0.45482866, 0.36222033,\n",
       "       0.33135089, 0.26054942, 0.17417162, 0.41404701, 0.39705466,\n",
       "       0.66241858, 0.25771736, 0.67346361, 0.5001416 , 0.54856981,\n",
       "       0.64485981, 0.46474087, 0.30529595, 0.40498442, 0.22175021,\n",
       "       0.21070518, 0.2500708 , 0.38232795, 0.51146984, 0.3078448 ,\n",
       "       0.58991787, 1.        , 0.36306995, 0.61908808, 0.33474936,\n",
       "       0.31407533, 0.21297083, 0.23336165, 0.14613424, 0.53214387,\n",
       "       0.41064854, 0.85188332, 0.63211555, 0.48343246, 0.21467007,\n",
       "       0.24468989, 0.26054942, 0.2546021 , 0.13905409, 0.30246389,\n",
       "       0.25885018, 0.48258284, 0.18096856, 0.38714245, 0.48513169,\n",
       "       0.26338148, 0.38714245, 0.72557349, 0.26168224, 0.30161427,\n",
       "       0.32257151, 0.41631266, 0.20815633, 0.31379213, 0.09515718,\n",
       "       0.56329652, 0.63806287, 0.3653356 , 0.3701501 , 0.23789295,\n",
       "       0.24129142, 0.17332201, 0.54885302, 0.17983574, 0.27442651,\n",
       "       0.13735486, 0.2594166 , 0.29934863, 0.53752478, 0.40101954,\n",
       "       0.51486831, 0.18946474, 0.3364486 , 0.3174738 , 0.21806854,\n",
       "       0.30104786, 0.28037383, 0.27640895, 0.5482866 , 0.53186066,\n",
       "       0.30926083, 0.65477202, 0.79637496, 0.28178986, 0.20334183,\n",
       "       0.33928066, 0.38232795, 0.26083263, 0.1104503 , 0.3605211 ,\n",
       "       0.33588219, 0.3653356 , 0.52761257, 0.4471821 , 0.25743415,\n",
       "       0.26819598, 0.36760125, 0.28178986, 0.36986689, 0.09289153,\n",
       "       0.15264798, 0.18125177, 0.49221184, 0.48994619, 0.53044463,\n",
       "       0.72302464, 0.56046446, 0.31605777])"
      ]
     },
     "execution_count": 25,
     "metadata": {},
     "output_type": "execute_result"
    }
   ],
   "source": [
    "Y_train"
   ]
  },
  {
   "cell_type": "code",
   "execution_count": 26,
   "metadata": {
    "ExecuteTime": {
     "end_time": "2020-03-20T03:45:19.053318Z",
     "start_time": "2020-03-20T03:45:14.569132Z"
    }
   },
   "outputs": [
    {
     "name": "stdout",
     "output_type": "stream",
     "text": [
      "Train on 358 samples, validate on 90 samples\n",
      "Epoch 1/100\n",
      "358/358 - 2s - loss: 0.0837 - val_loss: 0.0735\n",
      "Epoch 2/100\n",
      "358/358 - 0s - loss: 0.0725 - val_loss: 0.0627\n",
      "Epoch 3/100\n",
      "358/358 - 0s - loss: 0.0627 - val_loss: 0.0534\n",
      "Epoch 4/100\n",
      "358/358 - 0s - loss: 0.0544 - val_loss: 0.0458\n",
      "Epoch 5/100\n",
      "358/358 - 0s - loss: 0.0477 - val_loss: 0.0400\n",
      "Epoch 6/100\n",
      "358/358 - 0s - loss: 0.0428 - val_loss: 0.0361\n",
      "Epoch 7/100\n",
      "358/358 - 0s - loss: 0.0396 - val_loss: 0.0340\n",
      "Epoch 8/100\n",
      "358/358 - 0s - loss: 0.0380 - val_loss: 0.0333\n",
      "Epoch 9/100\n",
      "358/358 - 0s - loss: 0.0378 - val_loss: 0.0336\n",
      "Epoch 10/100\n",
      "358/358 - 0s - loss: 0.0384 - val_loss: 0.0344\n",
      "Epoch 11/100\n",
      "358/358 - 0s - loss: 0.0394 - val_loss: 0.0352\n",
      "Epoch 12/100\n",
      "358/358 - 0s - loss: 0.0403 - val_loss: 0.0357\n",
      "Epoch 13/100\n",
      "358/358 - 0s - loss: 0.0408 - val_loss: 0.0359\n",
      "Epoch 14/100\n",
      "358/358 - 0s - loss: 0.0410 - val_loss: 0.0356\n",
      "Epoch 15/100\n",
      "358/358 - 0s - loss: 0.0406 - val_loss: 0.0351\n",
      "Epoch 16/100\n",
      "358/358 - 0s - loss: 0.0400 - val_loss: 0.0343\n",
      "Epoch 17/100\n",
      "358/358 - 0s - loss: 0.0390 - val_loss: 0.0334\n",
      "Epoch 18/100\n",
      "358/358 - 0s - loss: 0.0380 - val_loss: 0.0326\n",
      "Epoch 19/100\n",
      "358/358 - 0s - loss: 0.0370 - val_loss: 0.0319\n",
      "Epoch 20/100\n",
      "358/358 - 0s - loss: 0.0361 - val_loss: 0.0314\n",
      "Epoch 21/100\n",
      "358/358 - 0s - loss: 0.0354 - val_loss: 0.0310\n",
      "Epoch 22/100\n",
      "358/358 - 0s - loss: 0.0348 - val_loss: 0.0309\n",
      "Epoch 23/100\n",
      "358/358 - 0s - loss: 0.0344 - val_loss: 0.0308\n",
      "Epoch 24/100\n",
      "358/358 - 0s - loss: 0.0342 - val_loss: 0.0309\n",
      "Epoch 25/100\n",
      "358/358 - 0s - loss: 0.0341 - val_loss: 0.0311\n",
      "Epoch 26/100\n",
      "358/358 - 0s - loss: 0.0341 - val_loss: 0.0312\n",
      "Epoch 27/100\n",
      "358/358 - 0s - loss: 0.0341 - val_loss: 0.0314\n",
      "Epoch 28/100\n",
      "358/358 - 0s - loss: 0.0341 - val_loss: 0.0314\n",
      "Epoch 29/100\n",
      "358/358 - 0s - loss: 0.0341 - val_loss: 0.0314\n",
      "Epoch 30/100\n",
      "358/358 - 0s - loss: 0.0340 - val_loss: 0.0313\n",
      "Epoch 31/100\n",
      "358/358 - 0s - loss: 0.0338 - val_loss: 0.0311\n",
      "Epoch 32/100\n",
      "358/358 - 0s - loss: 0.0336 - val_loss: 0.0309\n",
      "Epoch 33/100\n",
      "358/358 - 0s - loss: 0.0334 - val_loss: 0.0306\n",
      "Epoch 34/100\n",
      "358/358 - 0s - loss: 0.0331 - val_loss: 0.0303\n",
      "Epoch 35/100\n",
      "358/358 - 0s - loss: 0.0328 - val_loss: 0.0300\n",
      "Epoch 36/100\n",
      "358/358 - 0s - loss: 0.0325 - val_loss: 0.0296\n",
      "Epoch 37/100\n",
      "358/358 - 0s - loss: 0.0323 - val_loss: 0.0294\n",
      "Epoch 38/100\n",
      "358/358 - 0s - loss: 0.0320 - val_loss: 0.0291\n",
      "Epoch 39/100\n",
      "358/358 - 0s - loss: 0.0318 - val_loss: 0.0289\n",
      "Epoch 40/100\n",
      "358/358 - 0s - loss: 0.0317 - val_loss: 0.0288\n",
      "Epoch 41/100\n",
      "358/358 - 0s - loss: 0.0315 - val_loss: 0.0286\n",
      "Epoch 42/100\n",
      "358/358 - 0s - loss: 0.0314 - val_loss: 0.0285\n",
      "Epoch 43/100\n",
      "358/358 - 0s - loss: 0.0313 - val_loss: 0.0285\n",
      "Epoch 44/100\n",
      "358/358 - 0s - loss: 0.0312 - val_loss: 0.0284\n",
      "Epoch 45/100\n",
      "358/358 - 0s - loss: 0.0311 - val_loss: 0.0283\n",
      "Epoch 46/100\n",
      "358/358 - 0s - loss: 0.0310 - val_loss: 0.0282\n",
      "Epoch 47/100\n",
      "358/358 - 0s - loss: 0.0309 - val_loss: 0.0281\n",
      "Epoch 48/100\n",
      "358/358 - 0s - loss: 0.0308 - val_loss: 0.0280\n",
      "Epoch 49/100\n",
      "358/358 - 0s - loss: 0.0307 - val_loss: 0.0279\n",
      "Epoch 50/100\n",
      "358/358 - 0s - loss: 0.0305 - val_loss: 0.0278\n",
      "Epoch 51/100\n",
      "358/358 - 0s - loss: 0.0304 - val_loss: 0.0278\n",
      "Epoch 52/100\n",
      "358/358 - 0s - loss: 0.0302 - val_loss: 0.0277\n",
      "Epoch 53/100\n",
      "358/358 - 0s - loss: 0.0301 - val_loss: 0.0276\n",
      "Epoch 54/100\n",
      "358/358 - 0s - loss: 0.0300 - val_loss: 0.0276\n",
      "Epoch 55/100\n",
      "358/358 - 0s - loss: 0.0299 - val_loss: 0.0276\n",
      "Epoch 56/100\n",
      "358/358 - 0s - loss: 0.0298 - val_loss: 0.0275\n",
      "Epoch 57/100\n",
      "358/358 - 0s - loss: 0.0297 - val_loss: 0.0275\n",
      "Epoch 58/100\n",
      "358/358 - 0s - loss: 0.0296 - val_loss: 0.0274\n",
      "Epoch 59/100\n",
      "358/358 - 0s - loss: 0.0295 - val_loss: 0.0274\n",
      "Epoch 60/100\n",
      "358/358 - 0s - loss: 0.0294 - val_loss: 0.0273\n",
      "Epoch 61/100\n",
      "358/358 - 0s - loss: 0.0293 - val_loss: 0.0273\n",
      "Epoch 62/100\n",
      "358/358 - 0s - loss: 0.0292 - val_loss: 0.0272\n",
      "Epoch 63/100\n",
      "358/358 - 0s - loss: 0.0292 - val_loss: 0.0271\n",
      "Epoch 64/100\n",
      "358/358 - 0s - loss: 0.0291 - val_loss: 0.0270\n",
      "Epoch 65/100\n",
      "358/358 - 0s - loss: 0.0290 - val_loss: 0.0270\n",
      "Epoch 66/100\n",
      "358/358 - 0s - loss: 0.0289 - val_loss: 0.0269\n",
      "Epoch 67/100\n",
      "358/358 - 0s - loss: 0.0288 - val_loss: 0.0268\n",
      "Epoch 68/100\n",
      "358/358 - 0s - loss: 0.0287 - val_loss: 0.0268\n",
      "Epoch 69/100\n",
      "358/358 - 0s - loss: 0.0287 - val_loss: 0.0267\n",
      "Epoch 70/100\n",
      "358/358 - 0s - loss: 0.0286 - val_loss: 0.0267\n",
      "Epoch 71/100\n",
      "358/358 - 0s - loss: 0.0285 - val_loss: 0.0266\n",
      "Epoch 72/100\n",
      "358/358 - 0s - loss: 0.0284 - val_loss: 0.0266\n",
      "Epoch 73/100\n",
      "358/358 - 0s - loss: 0.0284 - val_loss: 0.0265\n",
      "Epoch 74/100\n",
      "358/358 - 0s - loss: 0.0283 - val_loss: 0.0265\n",
      "Epoch 75/100\n",
      "358/358 - 0s - loss: 0.0283 - val_loss: 0.0264\n",
      "Epoch 76/100\n",
      "358/358 - 0s - loss: 0.0282 - val_loss: 0.0264\n",
      "Epoch 77/100\n",
      "358/358 - 0s - loss: 0.0281 - val_loss: 0.0264\n",
      "Epoch 78/100\n",
      "358/358 - 0s - loss: 0.0281 - val_loss: 0.0263\n",
      "Epoch 79/100\n",
      "358/358 - 0s - loss: 0.0280 - val_loss: 0.0263\n",
      "Epoch 80/100\n",
      "358/358 - 0s - loss: 0.0279 - val_loss: 0.0263\n",
      "Epoch 81/100\n",
      "358/358 - 0s - loss: 0.0279 - val_loss: 0.0262\n",
      "Epoch 82/100\n",
      "358/358 - 0s - loss: 0.0278 - val_loss: 0.0262\n",
      "Epoch 83/100\n",
      "358/358 - 0s - loss: 0.0278 - val_loss: 0.0262\n",
      "Epoch 84/100\n",
      "358/358 - 0s - loss: 0.0277 - val_loss: 0.0262\n",
      "Epoch 85/100\n",
      "358/358 - 0s - loss: 0.0277 - val_loss: 0.0261\n",
      "Epoch 86/100\n",
      "358/358 - 0s - loss: 0.0276 - val_loss: 0.0261\n",
      "Epoch 87/100\n",
      "358/358 - 0s - loss: 0.0276 - val_loss: 0.0261\n",
      "Epoch 88/100\n",
      "358/358 - 0s - loss: 0.0275 - val_loss: 0.0260\n",
      "Epoch 89/100\n",
      "358/358 - 0s - loss: 0.0275 - val_loss: 0.0260\n",
      "Epoch 90/100\n",
      "358/358 - 0s - loss: 0.0274 - val_loss: 0.0260\n",
      "Epoch 91/100\n",
      "358/358 - 0s - loss: 0.0274 - val_loss: 0.0260\n",
      "Epoch 92/100\n",
      "358/358 - 0s - loss: 0.0273 - val_loss: 0.0259\n",
      "Epoch 93/100\n",
      "358/358 - 0s - loss: 0.0273 - val_loss: 0.0259\n",
      "Epoch 94/100\n",
      "358/358 - 0s - loss: 0.0272 - val_loss: 0.0259\n",
      "Epoch 95/100\n",
      "358/358 - 0s - loss: 0.0272 - val_loss: 0.0258\n",
      "Epoch 96/100\n",
      "358/358 - 0s - loss: 0.0272 - val_loss: 0.0258\n",
      "Epoch 97/100\n",
      "358/358 - 0s - loss: 0.0271 - val_loss: 0.0258\n",
      "Epoch 98/100\n",
      "358/358 - 0s - loss: 0.0271 - val_loss: 0.0258\n",
      "Epoch 99/100\n",
      "358/358 - 0s - loss: 0.0270 - val_loss: 0.0257\n",
      "Epoch 100/100\n",
      "358/358 - 0s - loss: 0.0270 - val_loss: 0.0257\n",
      "dict_keys(['loss', 'val_loss'])\n"
     ]
    },
    {
     "data": {
      "image/png": "[encoded data removed]",
      "text/plain": [
       "<Figure size 432x288 with 1 Axes>"
      ]
     },
     "metadata": {
      "needs_background": "light"
     },
     "output_type": "display_data"
    }
   ],
   "source": [
    "# reshape input to be [samples, time steps, features]\n",
    "X_train = np.reshape(X_train, (X_train.shape[0], 1, X_train.shape[1]))\n",
    "X_val = np.reshape(X_val, (X_val.shape[0], 1, X_val.shape[1]))\n",
    "\n",
    "# Generate LSTM network\n",
    "model = tf.keras.Sequential()\n",
    "model.add(LSTM(4, input_shape=(1, previous)))\n",
    "model.add(Dense(1))\n",
    "model.compile(loss='mean_squared_error', optimizer='adam')\n",
    "history=model.fit(X_train, Y_train, validation_split=0.2, epochs=100, batch_size=712, verbose=2)\n",
    "\n",
    "\n",
    "# list all data in history\n",
    "print(history.history.keys())\n",
    "# summarize history for accuracy\n",
    "plt.plot(history.history['loss'])\n",
    "plt.plot(history.history['val_loss'])\n",
    "plt.title('model loss')\n",
    "plt.ylabel('loss')\n",
    "plt.xlabel('epoch')\n",
    "plt.legend(['train', 'val'], loc='upper left')\n",
    "plt.show()"
   ]
  },
  {
   "cell_type": "code",
   "execution_count": 27,
   "metadata": {
    "ExecuteTime": {
     "end_time": "2020-03-20T03:45:40.911197Z",
     "start_time": "2020-03-20T03:45:40.897104Z"
    }
   },
   "outputs": [
    {
     "name": "stdout",
     "output_type": "stream",
     "text": [
      "Model: \"sequential\"\n",
      "_________________________________________________________________\n",
      "Layer (type)                 Output Shape              Param #   \n",
      "=================================================================\n",
      "lstm (LSTM)                  (None, 4)                 2000      \n",
      "_________________________________________________________________\n",
      "dense (Dense)                (None, 1)                 5         \n",
      "=================================================================\n",
      "Total params: 2,005\n",
      "Trainable params: 2,005\n",
      "Non-trainable params: 0\n",
      "_________________________________________________________________\n"
     ]
    }
   ],
   "source": [
    "model.summary()"
   ]
  },
  {
   "cell_type": "code",
   "execution_count": null,
   "metadata": {},
   "outputs": [],
   "source": []
  },
  {
   "cell_type": "code",
   "execution_count": 28,
   "metadata": {
    "ExecuteTime": {
     "end_time": "2020-03-20T03:47:19.559280Z",
     "start_time": "2020-03-20T03:47:19.549725Z"
    }
   },
   "outputs": [
    {
     "name": "stdout",
     "output_type": "stream",
     "text": [
      "Failed to import pydot. You must install pydot and graphviz for `pydotprint` to work.\n"
     ]
    }
   ],
   "source": [
    "tf.keras.utils.plot_model(model,'lstm_ts.png',show_shapes=True)"
   ]
  },
  {
   "cell_type": "code",
   "execution_count": 29,
   "metadata": {
    "ExecuteTime": {
     "end_time": "2020-03-20T03:47:35.280585Z",
     "start_time": "2020-03-20T03:47:34.578003Z"
    }
   },
   "outputs": [],
   "source": [
    "\n",
    "# Generate predictions\n",
    "trainpred = model.predict(X_train)\n",
    "valpred = model.predict(X_val)"
   ]
  },
  {
   "cell_type": "code",
   "execution_count": 30,
   "metadata": {
    "ExecuteTime": {
     "end_time": "2020-03-20T03:47:40.305910Z",
     "start_time": "2020-03-20T03:47:40.275643Z"
    }
   },
   "outputs": [
    {
     "data": {
      "text/plain": [
       "array([[0.44124007],\n",
       "       [0.39432296],\n",
       "       [0.3592488 ],\n",
       "       [0.33906636],\n",
       "       [0.27697885],\n",
       "       [0.28696084],\n",
       "       [0.3494023 ],\n",
       "       [0.2762898 ],\n",
       "       [0.31503305],\n",
       "       [0.31046593],\n",
       "       [0.34376916],\n",
       "       [0.44721866],\n",
       "       [0.46019995],\n",
       "       [0.3897883 ],\n",
       "       [0.4159685 ],\n",
       "       [0.32873663],\n",
       "       [0.27131957],\n",
       "       [0.28300402],\n",
       "       [0.28605825],\n",
       "       [0.34114745],\n",
       "       [0.33011523],\n",
       "       [0.2738126 ],\n",
       "       [0.42662895],\n",
       "       [0.35672313],\n",
       "       [0.43442   ],\n",
       "       [0.41927254],\n",
       "       [0.400888  ],\n",
       "       [0.36898407],\n",
       "       [0.2741923 ],\n",
       "       [0.27752155],\n",
       "       [0.2974742 ],\n",
       "       [0.2926742 ],\n",
       "       [0.32177818],\n",
       "       [0.32935566],\n",
       "       [0.37783358],\n",
       "       [0.4044707 ],\n",
       "       [0.49451116],\n",
       "       [0.4385486 ],\n",
       "       [0.35514936],\n",
       "       [0.38920996],\n",
       "       [0.3394377 ],\n",
       "       [0.32017073],\n",
       "       [0.2770155 ],\n",
       "       [0.278153  ],\n",
       "       [0.32651785],\n",
       "       [0.2857903 ],\n",
       "       [0.33083907],\n",
       "       [0.43141708],\n",
       "       [0.39051747],\n",
       "       [0.41057467],\n",
       "       [0.40706906],\n",
       "       [0.388614  ],\n",
       "       [0.371979  ],\n",
       "       [0.3466523 ],\n",
       "       [0.17890629],\n",
       "       [0.27453318],\n",
       "       [0.2877799 ],\n",
       "       [0.34295657],\n",
       "       [0.41258627],\n",
       "       [0.3752089 ],\n",
       "       [0.47526947],\n",
       "       [0.45058498],\n",
       "       [0.38100043],\n",
       "       [0.3670676 ],\n",
       "       [0.30469367],\n",
       "       [0.31262472],\n",
       "       [0.18477005],\n",
       "       [0.24041377],\n",
       "       [0.24216498],\n",
       "       [0.33461893],\n",
       "       [0.36058208],\n",
       "       [0.3894217 ],\n",
       "       [0.48116943],\n",
       "       [0.4532625 ],\n",
       "       [0.366104  ],\n",
       "       [0.37357387],\n",
       "       [0.3237903 ],\n",
       "       [0.20714942],\n",
       "       [0.26646045],\n",
       "       [0.27378002],\n",
       "       [0.2186284 ],\n",
       "       [0.30115667],\n",
       "       [0.32015198],\n",
       "       [0.3719198 ],\n",
       "       [0.3374347 ],\n",
       "       [0.41381   ],\n",
       "       [0.4147235 ],\n",
       "       [0.37059528],\n",
       "       [0.2737097 ],\n",
       "       [0.30192396],\n",
       "       [0.22859776],\n",
       "       [0.2900894 ],\n",
       "       [0.2572572 ],\n",
       "       [0.30082405],\n",
       "       [0.3245225 ],\n",
       "       [0.46099633],\n",
       "       [0.40754053],\n",
       "       [0.44407055],\n",
       "       [0.45086443],\n",
       "       [0.37859952],\n",
       "       [0.27149653],\n",
       "       [0.26686594],\n",
       "       [0.21194534],\n",
       "       [0.2804686 ],\n",
       "       [0.20616254],\n",
       "       [0.29176858],\n",
       "       [0.32527408],\n",
       "       [0.36285326],\n",
       "       [0.45979002],\n",
       "       [0.4388213 ],\n",
       "       [0.40956482],\n",
       "       [0.37041828],\n",
       "       [0.30391696],\n",
       "       [0.19968835],\n",
       "       [0.22370867],\n",
       "       [0.24821497],\n",
       "       [0.25386098],\n",
       "       [0.29998225],\n",
       "       [0.22706634],\n",
       "       [0.3700632 ],\n",
       "       [0.3552545 ],\n",
       "       [0.45031396],\n",
       "       [0.41646034],\n",
       "       [0.37125704],\n",
       "       [0.33503833],\n",
       "       [0.27747044],\n",
       "       [0.22936817],\n",
       "       [0.28581905],\n",
       "       [0.27107725],\n",
       "       [0.36398625],\n",
       "       [0.3264219 ],\n",
       "       [0.33695984],\n",
       "       [0.4218367 ],\n",
       "       [0.4456924 ],\n",
       "       [0.40465814],\n",
       "       [0.41843823],\n",
       "       [0.3611324 ],\n",
       "       [0.31119153],\n",
       "       [0.27742192],\n",
       "       [0.2259461 ],\n",
       "       [0.25603142],\n",
       "       [0.34518915],\n",
       "       [0.3701643 ],\n",
       "       [0.4508876 ],\n",
       "       [0.4774231 ],\n",
       "       [0.49462685],\n",
       "       [0.4616207 ],\n",
       "       [0.43286824],\n",
       "       [0.31820738],\n",
       "       [0.30975494],\n",
       "       [0.30977148],\n",
       "       [0.07806951],\n",
       "       [0.15971108],\n",
       "       [0.35530767],\n",
       "       [0.35488078],\n",
       "       [0.48408446],\n",
       "       [0.4350851 ],\n",
       "       [0.43900377],\n",
       "       [0.3899632 ],\n",
       "       [0.36413434],\n",
       "       [0.3973044 ],\n",
       "       [0.30313426],\n",
       "       [0.24138655],\n",
       "       [0.17007275],\n",
       "       [0.28570065],\n",
       "       [0.30595028],\n",
       "       [0.39775753],\n",
       "       [0.48948783],\n",
       "       [0.4246384 ],\n",
       "       [0.4082213 ],\n",
       "       [0.4355418 ],\n",
       "       [0.34563565],\n",
       "       [0.3201702 ],\n",
       "       [0.24780937],\n",
       "       [0.25010428],\n",
       "       [0.20236741],\n",
       "       [0.24618727],\n",
       "       [0.34984708],\n",
       "       [0.41126192],\n",
       "       [0.38512528],\n",
       "       [0.4640739 ],\n",
       "       [0.51056135],\n",
       "       [0.4602235 ],\n",
       "       [0.37384275],\n",
       "       [0.38977814],\n",
       "       [0.32146853],\n",
       "       [0.16007973],\n",
       "       [0.27321148],\n",
       "       [0.25584662],\n",
       "       [0.3499209 ],\n",
       "       [0.3650657 ],\n",
       "       [0.42963994],\n",
       "       [0.5198445 ],\n",
       "       [0.45133585],\n",
       "       [0.47233027],\n",
       "       [0.3892891 ],\n",
       "       [0.36417577],\n",
       "       [0.31008273],\n",
       "       [0.2824378 ],\n",
       "       [0.2310645 ],\n",
       "       [0.3341321 ],\n",
       "       [0.31543714],\n",
       "       [0.3315532 ],\n",
       "       [0.48215014],\n",
       "       [0.5272317 ],\n",
       "       [0.45676538],\n",
       "       [0.4437364 ],\n",
       "       [0.32418156],\n",
       "       [0.38153747],\n",
       "       [0.27294037],\n",
       "       [0.18749626],\n",
       "       [0.34788835],\n",
       "       [0.21261893],\n",
       "       [0.2888551 ],\n",
       "       [0.4474103 ],\n",
       "       [0.45936963],\n",
       "       [0.47255966],\n",
       "       [0.4278717 ],\n",
       "       [0.41729346],\n",
       "       [0.42291242],\n",
       "       [0.33945468],\n",
       "       [0.2655755 ],\n",
       "       [0.32039762],\n",
       "       [0.24734357],\n",
       "       [0.25952163],\n",
       "       [0.3849446 ],\n",
       "       [0.44251987],\n",
       "       [0.49117544],\n",
       "       [0.55519176],\n",
       "       [0.4470856 ],\n",
       "       [0.44215333],\n",
       "       [0.39150757],\n",
       "       [0.32396573],\n",
       "       [0.28355882],\n",
       "       [0.2760593 ],\n",
       "       [0.30775362],\n",
       "       [0.2550147 ],\n",
       "       [0.39508274],\n",
       "       [0.42853597],\n",
       "       [0.44082558],\n",
       "       [0.4641244 ],\n",
       "       [0.47144976],\n",
       "       [0.4488196 ],\n",
       "       [0.35118183],\n",
       "       [0.3137221 ],\n",
       "       [0.3028102 ],\n",
       "       [0.30013022],\n",
       "       [0.24020621],\n",
       "       [0.29781976],\n",
       "       [0.36055055],\n",
       "       [0.46369013],\n",
       "       [0.46617958],\n",
       "       [0.43687907],\n",
       "       [0.4294495 ],\n",
       "       [0.47663224],\n",
       "       [0.37849602],\n",
       "       [0.3776656 ],\n",
       "       [0.24444918],\n",
       "       [0.2623403 ],\n",
       "       [0.16911492],\n",
       "       [0.2949519 ],\n",
       "       [0.34305644],\n",
       "       [0.45420548],\n",
       "       [0.36933443],\n",
       "       [0.5142949 ],\n",
       "       [0.49870393],\n",
       "       [0.42720303],\n",
       "       [0.40231293],\n",
       "       [0.3572471 ],\n",
       "       [0.26502338],\n",
       "       [0.18964407],\n",
       "       [0.26375887],\n",
       "       [0.3358154 ],\n",
       "       [0.3457023 ],\n",
       "       [0.36729732],\n",
       "       [0.48859936],\n",
       "       [0.50260293],\n",
       "       [0.3773971 ],\n",
       "       [0.38510117],\n",
       "       [0.3709579 ],\n",
       "       [0.41573375],\n",
       "       [0.36016107],\n",
       "       [0.2746433 ],\n",
       "       [0.31728274],\n",
       "       [0.3852552 ],\n",
       "       [0.33501273],\n",
       "       [0.44633812],\n",
       "       [0.44505233],\n",
       "       [0.4448295 ],\n",
       "       [0.49787813],\n",
       "       [0.38303745],\n",
       "       [0.36221513],\n",
       "       [0.4246392 ],\n",
       "       [0.29010522],\n",
       "       [0.25147504],\n",
       "       [0.23039   ],\n",
       "       [0.3129758 ],\n",
       "       [0.42217225],\n",
       "       [0.37965778],\n",
       "       [0.36418304],\n",
       "       [0.44153252],\n",
       "       [0.4362358 ],\n",
       "       [0.40864146],\n",
       "       [0.47413307],\n",
       "       [0.38578364],\n",
       "       [0.32201055],\n",
       "       [0.2889731 ],\n",
       "       [0.28536004],\n",
       "       [0.3048623 ],\n",
       "       [0.29741502],\n",
       "       [0.41714472],\n",
       "       [0.40689412],\n",
       "       [0.40493602],\n",
       "       [0.42254323],\n",
       "       [0.48270977],\n",
       "       [0.3621282 ],\n",
       "       [0.3275404 ],\n",
       "       [0.26568568],\n",
       "       [0.35630304],\n",
       "       [0.29556745],\n",
       "       [0.25927588],\n",
       "       [0.3170343 ],\n",
       "       [0.36367103],\n",
       "       [0.45308617],\n",
       "       [0.41130275],\n",
       "       [0.46166453],\n",
       "       [0.47295293],\n",
       "       [0.33203575],\n",
       "       [0.3329878 ],\n",
       "       [0.35851288],\n",
       "       [0.36327273],\n",
       "       [0.3027674 ],\n",
       "       [0.239856  ],\n",
       "       [0.24964458],\n",
       "       [0.34079155],\n",
       "       [0.4673802 ],\n",
       "       [0.40951246],\n",
       "       [0.45698005],\n",
       "       [0.36577743],\n",
       "       [0.40923235],\n",
       "       [0.38428897],\n",
       "       [0.2919819 ],\n",
       "       [0.33562642],\n",
       "       [0.28479204],\n",
       "       [0.30473995],\n",
       "       [0.35448503],\n",
       "       [0.28347728],\n",
       "       [0.3907403 ],\n",
       "       [0.40961254],\n",
       "       [0.4613545 ],\n",
       "       [0.41571152],\n",
       "       [0.43006486],\n",
       "       [0.33963293],\n",
       "       [0.344242  ],\n",
       "       [0.25945595],\n",
       "       [0.28461605],\n",
       "       [0.32758865],\n",
       "       [0.3441209 ],\n",
       "       [0.3220113 ],\n",
       "       [0.3855512 ],\n",
       "       [0.46856138],\n",
       "       [0.49602455],\n",
       "       [0.45305622],\n",
       "       [0.34257054],\n",
       "       [0.35269126],\n",
       "       [0.3320646 ],\n",
       "       [0.22433692],\n",
       "       [0.29261163],\n",
       "       [0.39380243],\n",
       "       [0.25564617],\n",
       "       [0.32159123],\n",
       "       [0.3948581 ],\n",
       "       [0.4404784 ],\n",
       "       [0.44844902],\n",
       "       [0.49498487],\n",
       "       [0.44006145],\n",
       "       [0.44627878],\n",
       "       [0.34223053],\n",
       "       [0.33753335],\n",
       "       [0.30737695],\n",
       "       [0.27973813],\n",
       "       [0.2979044 ],\n",
       "       [0.38071594],\n",
       "       [0.4062119 ],\n",
       "       [0.46479258],\n",
       "       [0.38873303],\n",
       "       [0.4408396 ],\n",
       "       [0.44881716],\n",
       "       [0.40264246],\n",
       "       [0.33877546],\n",
       "       [0.27970746],\n",
       "       [0.27011663],\n",
       "       [0.20039599],\n",
       "       [0.24366349],\n",
       "       [0.4357383 ],\n",
       "       [0.41722584],\n",
       "       [0.38452953],\n",
       "       [0.4517306 ],\n",
       "       [0.48075575],\n",
       "       [0.45822492],\n",
       "       [0.4169421 ],\n",
       "       [0.26612836],\n",
       "       [0.25431028],\n",
       "       [0.19253306],\n",
       "       [0.17151776],\n",
       "       [0.25177032],\n",
       "       [0.3577457 ],\n",
       "       [0.33055425],\n",
       "       [0.4779022 ],\n",
       "       [0.4495067 ],\n",
       "       [0.46494627],\n",
       "       [0.41478643],\n",
       "       [0.31442145],\n",
       "       [0.2890379 ],\n",
       "       [0.21880433],\n",
       "       [0.28086412],\n",
       "       [0.23641744],\n",
       "       [0.28452107],\n",
       "       [0.33904022],\n",
       "       [0.38170525],\n",
       "       [0.4484685 ],\n",
       "       [0.4629616 ],\n",
       "       [0.4228292 ],\n",
       "       [0.38024437],\n",
       "       [0.3006181 ],\n",
       "       [0.36434802],\n",
       "       [0.29195943],\n",
       "       [0.24354778],\n",
       "       [0.33425504],\n",
       "       [0.432528  ],\n",
       "       [0.37958166],\n",
       "       [0.42779103],\n",
       "       [0.5218044 ],\n",
       "       [0.47827455],\n",
       "       [0.4487574 ],\n",
       "       [0.33608288],\n",
       "       [0.3698465 ],\n",
       "       [0.37226585],\n",
       "       [0.28648543],\n",
       "       [0.28869113],\n",
       "       [0.33621228],\n",
       "       [0.3162482 ],\n",
       "       [0.39692873],\n",
       "       [0.4796236 ],\n",
       "       [0.44402912],\n",
       "       [0.47164097],\n",
       "       [0.40439108],\n",
       "       [0.39779785]], dtype=float32)"
      ]
     },
     "execution_count": 30,
     "metadata": {},
     "output_type": "execute_result"
    }
   ],
   "source": [
    "trainpred"
   ]
  },
  {
   "cell_type": "code",
   "execution_count": 31,
   "metadata": {
    "ExecuteTime": {
     "end_time": "2020-03-20T03:47:56.851028Z",
     "start_time": "2020-03-20T03:47:56.839066Z"
    }
   },
   "outputs": [],
   "source": [
    "\n",
    "# Convert predictions back to normal values\n",
    "trainpred = scaler.inverse_transform(trainpred)\n",
    "Y_train = scaler.inverse_transform([Y_train])\n",
    "valpred = scaler.inverse_transform(valpred)\n",
    "Y_val = scaler.inverse_transform([Y_val])\n",
    "predictions = valpred"
   ]
  },
  {
   "cell_type": "code",
   "execution_count": null,
   "metadata": {},
   "outputs": [],
   "source": []
  },
  {
   "cell_type": "code",
   "execution_count": 32,
   "metadata": {
    "ExecuteTime": {
     "end_time": "2020-03-20T03:47:59.931684Z",
     "start_time": "2020-03-20T03:47:59.913790Z"
    }
   },
   "outputs": [
    {
     "name": "stdout",
     "output_type": "stream",
     "text": [
      "Train Score: 57.69 RMSE\n",
      "Validation Score: 50.71 RMSE\n"
     ]
    }
   ],
   "source": [
    "import math\n",
    "from sklearn.metrics import mean_squared_error\n",
    "\n",
    "# calculate RMSE\n",
    "trainScore = math.sqrt(mean_squared_error(Y_train[0], trainpred[:,0]))\n",
    "print('Train Score: %.2f RMSE' % (trainScore))\n",
    "valScore = math.sqrt(mean_squared_error(Y_val[0], valpred[:,0]))\n",
    "print('Validation Score: %.2f RMSE' % (valScore))"
   ]
  },
  {
   "cell_type": "code",
   "execution_count": null,
   "metadata": {},
   "outputs": [],
   "source": []
  },
  {
   "cell_type": "code",
   "execution_count": 33,
   "metadata": {
    "ExecuteTime": {
     "end_time": "2020-03-20T03:48:06.883421Z",
     "start_time": "2020-03-20T03:48:06.873260Z"
    }
   },
   "outputs": [],
   "source": [
    "# Train predictions\n",
    "trainpredPlot = np.empty_like(df)\n",
    "trainpredPlot[:, :] = np.nan\n",
    "trainpredPlot[previous:len(trainpred)+previous, :] = trainpred"
   ]
  },
  {
   "cell_type": "code",
   "execution_count": null,
   "metadata": {},
   "outputs": [],
   "source": []
  },
  {
   "cell_type": "code",
   "execution_count": 34,
   "metadata": {
    "ExecuteTime": {
     "end_time": "2020-03-20T03:48:09.254139Z",
     "start_time": "2020-03-20T03:48:09.243051Z"
    }
   },
   "outputs": [],
   "source": [
    "\n",
    "# Validation predictions\n",
    "valpredPlot = np.empty_like(df)\n",
    "valpredPlot[:, :] = np.nan\n",
    "valpredPlot[len(trainpred)+(previous*2)+1:len(df)-1, :] = valpred"
   ]
  },
  {
   "cell_type": "code",
   "execution_count": null,
   "metadata": {},
   "outputs": [],
   "source": []
  },
  {
   "cell_type": "code",
   "execution_count": 35,
   "metadata": {
    "ExecuteTime": {
     "end_time": "2020-03-20T03:48:11.690748Z",
     "start_time": "2020-03-20T03:48:11.450579Z"
    }
   },
   "outputs": [
    {
     "data": {
      "image/png": "[encoded data removed]",
      "text/plain": [
       "<Figure size 432x288 with 1 Axes>"
      ]
     },
     "metadata": {
      "needs_background": "light"
     },
     "output_type": "display_data"
    }
   ],
   "source": [
    "# Plot all predictions\n",
    "inversetransform, =plt.plot(scaler.inverse_transform(df))\n",
    "trainpred, =plt.plot(trainpredPlot)\n",
    "valpred, =plt.plot(valpredPlot)\n",
    "plt.xlabel('Days')\n",
    "plt.ylabel('Rainfall')\n",
    "plt.title(\"Predicted vs. Actual Rainfall\")\n",
    "plt.show()"
   ]
  },
  {
   "cell_type": "code",
   "execution_count": null,
   "metadata": {},
   "outputs": [],
   "source": []
  },
  {
   "cell_type": "code",
   "execution_count": 36,
   "metadata": {
    "ExecuteTime": {
     "end_time": "2020-03-20T03:48:22.081068Z",
     "start_time": "2020-03-20T03:48:22.072298Z"
    }
   },
   "outputs": [],
   "source": [
    "\n",
    "Y_val=Y_val.reshape(-1)\n",
    "Y_val.shape\n",
    "Y_val=pd.Series(Y_val)"
   ]
  },
  {
   "cell_type": "code",
   "execution_count": null,
   "metadata": {},
   "outputs": [],
   "source": []
  },
  {
   "cell_type": "code",
   "execution_count": 37,
   "metadata": {
    "ExecuteTime": {
     "end_time": "2020-03-20T03:48:24.051630Z",
     "start_time": "2020-03-20T03:48:24.033929Z"
    }
   },
   "outputs": [
    {
     "data": {
      "text/plain": [
       "0      97.574448\n",
       "1      95.803673\n",
       "2     115.825966\n",
       "3     111.630302\n",
       "4     131.049942\n",
       "5     149.274597\n",
       "6     159.061386\n",
       "7     161.431061\n",
       "8     145.600571\n",
       "9     153.711349\n",
       "10    143.550797\n",
       "11    106.268517\n",
       "12    110.749611\n",
       "13    143.999619\n",
       "14    134.553055\n",
       "15    151.220322\n",
       "16    137.854492\n",
       "17    147.831635\n",
       "18    130.966553\n",
       "19    162.657455\n",
       "20    181.407196\n",
       "21    172.894714\n",
       "dtype: float32"
      ]
     },
     "execution_count": 37,
     "metadata": {},
     "output_type": "execute_result"
    }
   ],
   "source": [
    "predictions=predictions.reshape(-1)\n",
    "predictions.shape\n",
    "predictions=pd.Series(predictions)\n",
    "predictions\n"
   ]
  },
  {
   "cell_type": "code",
   "execution_count": 38,
   "metadata": {
    "ExecuteTime": {
     "end_time": "2020-03-20T03:48:26.486139Z",
     "start_time": "2020-03-20T03:48:26.470747Z"
    }
   },
   "outputs": [],
   "source": [
    "import numpy as np\n",
    "\n",
    "def mda(actual: np.ndarray, predicted: np.ndarray):\n",
    "    \"\"\" Mean Directional Accuracy \"\"\"\n",
    "    return np.mean((np.sign(actual[1:] - actual[:-1]) == np.sign(predicted[1:] - predicted[:-1])).astype(int))"
   ]
  },
  {
   "cell_type": "code",
   "execution_count": 39,
   "metadata": {
    "ExecuteTime": {
     "end_time": "2020-03-20T03:48:28.939062Z",
     "start_time": "2020-03-20T03:48:28.892904Z"
    }
   },
   "outputs": [
    {
     "data": {
      "text/plain": [
       "0.9090909090909091"
      ]
     },
     "execution_count": 39,
     "metadata": {},
     "output_type": "execute_result"
    }
   ],
   "source": [
    "mda(Y_val, predictions)\n"
   ]
  },
  {
   "cell_type": "code",
   "execution_count": 40,
   "metadata": {
    "ExecuteTime": {
     "end_time": "2020-03-20T03:48:44.271967Z",
     "start_time": "2020-03-20T03:48:44.259318Z"
    }
   },
   "outputs": [
    {
     "name": "stdout",
     "output_type": "stream",
     "text": [
      "RMSE: 50.711276\n"
     ]
    }
   ],
   "source": [
    "# https://machinelearningmastery.com/time-series-forecasting-performance-measures-with-python/\n",
    "\n",
    "from sklearn.metrics import mean_squared_error\n",
    "from math import sqrt\n",
    "mse = mean_squared_error(Y_val, predictions)\n",
    "rmse = sqrt(mse)\n",
    "print('RMSE: %f' % rmse)"
   ]
  },
  {
   "cell_type": "code",
   "execution_count": 41,
   "metadata": {
    "ExecuteTime": {
     "end_time": "2020-03-20T03:48:46.702455Z",
     "start_time": "2020-03-20T03:48:46.688900Z"
    }
   },
   "outputs": [
    {
     "data": {
      "text/plain": [
       "0      72.274448\n",
       "1      32.803673\n",
       "2      17.025966\n",
       "3     -70.569698\n",
       "4     -55.150058\n",
       "5       2.474597\n",
       "6     -18.138614\n",
       "7     -45.568939\n",
       "8     -35.699429\n",
       "9    -115.988651\n",
       "10    -11.449203\n",
       "11     18.968517\n",
       "12     24.549611\n",
       "13     80.299619\n",
       "14     73.153055\n",
       "15     95.820322\n",
       "16    -37.045508\n",
       "17      5.631635\n",
       "18     -0.233447\n",
       "19     12.057455\n",
       "20     -7.692804\n",
       "21     33.794714\n",
       "dtype: float64"
      ]
     },
     "execution_count": 41,
     "metadata": {},
     "output_type": "execute_result"
    }
   ],
   "source": [
    "forecast_error = (predictions-Y_val)\n",
    "forecast_error"
   ]
  },
  {
   "cell_type": "code",
   "execution_count": 42,
   "metadata": {
    "ExecuteTime": {
     "end_time": "2020-03-20T03:48:49.026550Z",
     "start_time": "2020-03-20T03:48:49.015474Z"
    }
   },
   "outputs": [
    {
     "data": {
      "text/plain": [
       "3.2416936007412995"
      ]
     },
     "execution_count": 42,
     "metadata": {},
     "output_type": "execute_result"
    }
   ],
   "source": [
    "mean_forecast_error = np.mean(forecast_error)\n",
    "mean_forecast_error"
   ]
  },
  {
   "cell_type": "code",
   "execution_count": 43,
   "metadata": {
    "ExecuteTime": {
     "end_time": "2020-03-20T03:48:51.027659Z",
     "start_time": "2020-03-20T03:48:51.014269Z"
    }
   },
   "outputs": [
    {
     "data": {
      "text/plain": [
       "array([[[0.53242707, 0.82242991, 0.34806004, ..., 0.21042198,\n",
       "         0.16765789, 0.28518833]],\n",
       "\n",
       "       [[0.82242991, 0.34806004, 0.28632116, ..., 0.16765789,\n",
       "         0.28518833, 0.51713396]],\n",
       "\n",
       "       [[0.34806004, 0.28632116, 0.13848768, ..., 0.28518833,\n",
       "         0.51713396, 0.49079581]],\n",
       "\n",
       "       ...,\n",
       "\n",
       "       [[0.25035401, 0.06513735, 0.55451713, ..., 0.49221184,\n",
       "         0.48994619, 0.53044463]],\n",
       "\n",
       "       [[0.06513735, 0.55451713, 0.23789295, ..., 0.48994619,\n",
       "         0.53044463, 0.72302464]],\n",
       "\n",
       "       [[0.55451713, 0.23789295, 0.10676862, ..., 0.53044463,\n",
       "         0.72302464, 0.56046446]]])"
      ]
     },
     "execution_count": 43,
     "metadata": {},
     "output_type": "execute_result"
    }
   ],
   "source": [
    "X_train"
   ]
  },
  {
   "cell_type": "code",
   "execution_count": 44,
   "metadata": {
    "ExecuteTime": {
     "end_time": "2020-03-20T03:48:51.801187Z",
     "start_time": "2020-03-20T03:48:51.782324Z"
    }
   },
   "outputs": [],
   "source": [
    "# Test (unseen) predictions\n",
    "Xnew = np.array([tseries.iloc[592:712],tseries.iloc[593:713],tseries.iloc[594:714],tseries.iloc[595:715],tseries.iloc[596:716],tseries.iloc[597:717],tseries.iloc[598:718],tseries.iloc[599:719],tseries.iloc[600:720],tseries.iloc[601:721]])"
   ]
  },
  {
   "cell_type": "code",
   "execution_count": 45,
   "metadata": {
    "ExecuteTime": {
     "end_time": "2020-03-20T03:48:52.478781Z",
     "start_time": "2020-03-20T03:48:52.467579Z"
    }
   },
   "outputs": [
    {
     "data": {
      "text/plain": [
       "array([[123.1, 110.8, 128.8, ..., 189.1, 139.1, 107.9],\n",
       "       [110.8, 128.8,  67.5, ..., 139.1, 107.9, 227.3],\n",
       "       [128.8,  67.5, 243.8, ..., 107.9, 227.3,  92.6],\n",
       "       ...,\n",
       "       [132.3, 322.6, 133.8, ...,  84.1, 221.9, 166.3],\n",
       "       [322.6, 133.8,  86. , ..., 221.9, 166.3, 152. ],\n",
       "       [133.8,  86. ,  69.1, ..., 166.3, 152. , 142.5]])"
      ]
     },
     "execution_count": 45,
     "metadata": {},
     "output_type": "execute_result"
    }
   ],
   "source": [
    "Xnew"
   ]
  },
  {
   "cell_type": "code",
   "execution_count": 46,
   "metadata": {
    "ExecuteTime": {
     "end_time": "2020-03-20T03:48:53.420114Z",
     "start_time": "2020-03-20T03:48:53.371480Z"
    }
   },
   "outputs": [],
   "source": [
    "\n",
    "Xnew = scaler.fit_transform(Xnew)\n",
    "Xnew\n",
    "Xnewformat = np.reshape(Xnew, (Xnew.shape[0], 1, Xnew.shape[1]))\n",
    "ynew=model.predict(Xnewformat)"
   ]
  },
  {
   "cell_type": "code",
   "execution_count": 49,
   "metadata": {
    "ExecuteTime": {
     "end_time": "2020-03-20T03:49:42.494829Z",
     "start_time": "2020-03-20T03:49:42.483583Z"
    }
   },
   "outputs": [
    {
     "data": {
      "text/plain": [
       "array([[0.3687933 ],\n",
       "       [0.2696349 ],\n",
       "       [0.17150551],\n",
       "       [0.37317035],\n",
       "       [0.43052787],\n",
       "       [0.44431233],\n",
       "       [0.45393553],\n",
       "       [0.37798816],\n",
       "       [0.6655874 ],\n",
       "       [0.5756201 ]], dtype=float32)"
      ]
     },
     "execution_count": 49,
     "metadata": {},
     "output_type": "execute_result"
    }
   ],
   "source": [
    "ynew"
   ]
  },
  {
   "cell_type": "code",
   "execution_count": 50,
   "metadata": {
    "ExecuteTime": {
     "end_time": "2020-03-20T03:49:52.088738Z",
     "start_time": "2020-03-20T03:49:52.078051Z"
    }
   },
   "outputs": [
    {
     "data": {
      "text/plain": [
       "(10, 1)"
      ]
     },
     "execution_count": 50,
     "metadata": {},
     "output_type": "execute_result"
    }
   ],
   "source": [
    "ynew.shape\n"
   ]
  },
  {
   "cell_type": "code",
   "execution_count": 51,
   "metadata": {
    "ExecuteTime": {
     "end_time": "2020-03-20T03:50:00.224110Z",
     "start_time": "2020-03-20T03:50:00.209558Z"
    }
   },
   "outputs": [
    {
     "data": {
      "text/plain": [
       "712    227.3\n",
       "713     92.6\n",
       "714    110.5\n",
       "715     74.8\n",
       "716     84.1\n",
       "717    221.9\n",
       "718    166.3\n",
       "719    152.0\n",
       "720    142.5\n",
       "721    217.3\n",
       "Name: rain, dtype: float64"
      ]
     },
     "execution_count": 51,
     "metadata": {},
     "output_type": "execute_result"
    }
   ],
   "source": [
    "\n",
    "actual=tseries.iloc[712:722]\n",
    "actual"
   ]
  },
  {
   "cell_type": "code",
   "execution_count": 52,
   "metadata": {
    "ExecuteTime": {
     "end_time": "2020-03-20T03:50:19.925753Z",
     "start_time": "2020-03-20T03:50:19.913324Z"
    }
   },
   "outputs": [
    {
     "data": {
      "text/plain": [
       "array([227.3,  92.6, 110.5,  74.8,  84.1, 221.9, 166.3, 152. , 142.5,\n",
       "       217.3])"
      ]
     },
     "execution_count": 52,
     "metadata": {},
     "output_type": "execute_result"
    }
   ],
   "source": [
    "actual = np.array(actual)\n",
    "actual"
   ]
  },
  {
   "cell_type": "code",
   "execution_count": 53,
   "metadata": {
    "ExecuteTime": {
     "end_time": "2020-03-20T03:50:30.896959Z",
     "start_time": "2020-03-20T03:50:30.885983Z"
    }
   },
   "outputs": [
    {
     "data": {
      "text/plain": [
       "(10, 1)"
      ]
     },
     "execution_count": 53,
     "metadata": {},
     "output_type": "execute_result"
    }
   ],
   "source": [
    "\n",
    "actual=actual.reshape(10,-1)\n",
    "actual.shape"
   ]
  },
  {
   "cell_type": "code",
   "execution_count": 54,
   "metadata": {
    "ExecuteTime": {
     "end_time": "2020-03-20T03:50:36.565774Z",
     "start_time": "2020-03-20T03:50:36.554885Z"
    }
   },
   "outputs": [
    {
     "data": {
      "text/plain": [
       "array([[227.3],\n",
       "       [ 92.6],\n",
       "       [110.5],\n",
       "       [ 74.8],\n",
       "       [ 84.1],\n",
       "       [221.9],\n",
       "       [166.3],\n",
       "       [152. ],\n",
       "       [142.5],\n",
       "       [217.3]])"
      ]
     },
     "execution_count": 54,
     "metadata": {},
     "output_type": "execute_result"
    }
   ],
   "source": [
    "actual"
   ]
  },
  {
   "cell_type": "code",
   "execution_count": 47,
   "metadata": {
    "ExecuteTime": {
     "end_time": "2020-03-20T03:48:56.005173Z",
     "start_time": "2020-03-20T03:48:55.993436Z"
    }
   },
   "outputs": [
    {
     "data": {
      "text/plain": [
       "3.2416936007412995"
      ]
     },
     "execution_count": 47,
     "metadata": {},
     "output_type": "execute_result"
    }
   ],
   "source": [
    "mean_forecast_error = np.mean(forecast_error)\n",
    "mean_forecast_error"
   ]
  },
  {
   "cell_type": "code",
   "execution_count": 55,
   "metadata": {
    "ExecuteTime": {
     "end_time": "2020-03-20T03:50:48.183762Z",
     "start_time": "2020-03-20T03:50:48.176191Z"
    }
   },
   "outputs": [],
   "source": [
    "ynew=ynew.reshape(-1)\n",
    "actual=actual.reshape(-1)\n",
    "actualpd=pd.Series(actual)"
   ]
  },
  {
   "cell_type": "code",
   "execution_count": 56,
   "metadata": {
    "ExecuteTime": {
     "end_time": "2020-03-20T03:50:53.367441Z",
     "start_time": "2020-03-20T03:50:53.356780Z"
    }
   },
   "outputs": [
    {
     "data": {
      "text/plain": [
       "0.0"
      ]
     },
     "execution_count": 56,
     "metadata": {},
     "output_type": "execute_result"
    }
   ],
   "source": [
    "np.min(df)\n"
   ]
  },
  {
   "cell_type": "code",
   "execution_count": 57,
   "metadata": {
    "ExecuteTime": {
     "end_time": "2020-03-20T03:50:57.989067Z",
     "start_time": "2020-03-20T03:50:57.976874Z"
    }
   },
   "outputs": [
    {
     "data": {
      "text/plain": [
       "array([0.3687933 , 0.2696349 , 0.17150551, 0.37317035, 0.43052787,\n",
       "       0.44431233, 0.45393553, 0.37798816, 0.6655874 , 0.5756201 ],\n",
       "      dtype=float32)"
      ]
     },
     "execution_count": 57,
     "metadata": {},
     "output_type": "execute_result"
    }
   ],
   "source": [
    "ynew"
   ]
  },
  {
   "cell_type": "code",
   "execution_count": 58,
   "metadata": {
    "ExecuteTime": {
     "end_time": "2020-03-20T03:51:16.930842Z",
     "start_time": "2020-03-20T03:51:16.915508Z"
    }
   },
   "outputs": [
    {
     "data": {
      "text/plain": [
       "0    227.3\n",
       "1     92.6\n",
       "2    110.5\n",
       "3     74.8\n",
       "4     84.1\n",
       "5    221.9\n",
       "6    166.3\n",
       "7    152.0\n",
       "8    142.5\n",
       "9    217.3\n",
       "dtype: float64"
      ]
     },
     "execution_count": 58,
     "metadata": {},
     "output_type": "execute_result"
    }
   ],
   "source": [
    "maxt=np.max(tseries)\n",
    "mint=np.min(tseries)\n",
    "actualpd"
   ]
  },
  {
   "cell_type": "code",
   "execution_count": 60,
   "metadata": {
    "ExecuteTime": {
     "end_time": "2020-03-20T03:51:50.535107Z",
     "start_time": "2020-03-20T03:51:50.524602Z"
    }
   },
   "outputs": [],
   "source": [
    "ynew = ynew * np.abs(maxt-mint) + np.min(tseries)\n",
    "ynewpd=pd.Series(ynew)"
   ]
  },
  {
   "cell_type": "code",
   "execution_count": 61,
   "metadata": {
    "ExecuteTime": {
     "end_time": "2020-03-20T03:51:58.163332Z",
     "start_time": "2020-03-20T03:51:58.150890Z"
    }
   },
   "outputs": [
    {
     "data": {
      "text/plain": [
       "0    135.220917\n",
       "1    100.208084\n",
       "2     65.558594\n",
       "3    136.766449\n",
       "4    157.019394\n",
       "5    161.886688\n",
       "6    165.284637\n",
       "7    138.467621\n",
       "8    240.018921\n",
       "9    208.251465\n",
       "dtype: float32"
      ]
     },
     "execution_count": 61,
     "metadata": {},
     "output_type": "execute_result"
    }
   ],
   "source": [
    "ynewpd"
   ]
  },
  {
   "cell_type": "code",
   "execution_count": 62,
   "metadata": {
    "ExecuteTime": {
     "end_time": "2020-03-20T03:52:04.010830Z",
     "start_time": "2020-03-20T03:52:03.992378Z"
    }
   },
   "outputs": [
    {
     "data": {
      "text/plain": [
       "0.8"
      ]
     },
     "execution_count": 62,
     "metadata": {},
     "output_type": "execute_result"
    }
   ],
   "source": [
    "mda(actualpd, ynewpd)\n"
   ]
  },
  {
   "cell_type": "code",
   "execution_count": 63,
   "metadata": {
    "ExecuteTime": {
     "end_time": "2020-03-20T03:52:12.210395Z",
     "start_time": "2020-03-20T03:52:12.196794Z"
    }
   },
   "outputs": [
    {
     "name": "stdout",
     "output_type": "stream",
     "text": [
      "RMSE: 57.524620\n"
     ]
    }
   ],
   "source": [
    "mse = mean_squared_error(actualpd, ynewpd)\n",
    "rmse = sqrt(mse)\n",
    "print('RMSE: %f' % rmse)"
   ]
  },
  {
   "cell_type": "code",
   "execution_count": 64,
   "metadata": {
    "ExecuteTime": {
     "end_time": "2020-03-20T03:52:21.898945Z",
     "start_time": "2020-03-20T03:52:21.885216Z"
    }
   },
   "outputs": [
    {
     "data": {
      "text/plain": [
       "0   -92.079083\n",
       "1     7.608084\n",
       "2   -44.941406\n",
       "3    61.966449\n",
       "4    72.919394\n",
       "5   -60.013312\n",
       "6    -1.015363\n",
       "7   -13.532379\n",
       "8    97.518921\n",
       "9    -9.048535\n",
       "dtype: float64"
      ]
     },
     "execution_count": 64,
     "metadata": {},
     "output_type": "execute_result"
    }
   ],
   "source": [
    "forecast_error = (ynewpd-actualpd)\n",
    "forecast_error"
   ]
  },
  {
   "cell_type": "code",
   "execution_count": null,
   "metadata": {},
   "outputs": [],
   "source": []
  },
  {
   "cell_type": "code",
   "execution_count": 65,
   "metadata": {
    "ExecuteTime": {
     "end_time": "2020-03-20T03:52:31.103210Z",
     "start_time": "2020-03-20T03:52:30.887393Z"
    }
   },
   "outputs": [
    {
     "data": {
      "image/png": "[encoded data removed]",
      "text/plain": [
       "<Figure size 432x288 with 1 Axes>"
      ]
     },
     "metadata": {
      "needs_background": "light"
     },
     "output_type": "display_data"
    }
   ],
   "source": [
    "predictons, =plt.plot(ynewpd, label='Predictions')\n",
    "actual, =plt.plot(actualpd, label='Actual')\n",
    "plt.xlabel('Days')\n",
    "plt.ylabel('Rainfall')\n",
    "plt.title(\"Predicted vs. Actual Rainfall\")\n",
    "plt.legend(loc = 'upper center')\n",
    "plt.show()"
   ]
  },
  {
   "cell_type": "code",
   "execution_count": null,
   "metadata": {},
   "outputs": [],
   "source": []
  }
 ],
 "metadata": {
  "hide_input": false,
  "kernelspec": {
   "display_name": "Python 3",
   "language": "python",
   "name": "python3"
  },
  "language_info": {
   "codemirror_mode": {
    "name": "ipython",
    "version": 3
   },
   "file_extension": ".py",
   "mimetype": "text/x-python",
   "name": "python",
   "nbconvert_exporter": "python",
   "pygments_lexer": "ipython3",
   "version": "3.6.8"
  },
  "toc": {
   "base_numbering": 1,
   "nav_menu": {},
   "number_sections": true,
   "sideBar": true,
   "skip_h1_title": false,
   "title_cell": "Table of Contents",
   "title_sidebar": "Contents",
   "toc_cell": false,
   "toc_position": {},
   "toc_section_display": true,
   "toc_window_display": true
  },
  "varInspector": {
   "cols": {
    "lenName": 16,
    "lenType": 16,
    "lenVar": 40
   },
   "kernels_config": {
    "python": {
     "delete_cmd_postfix": "",
     "delete_cmd_prefix": "del ",
     "library": "var_list.py",
     "varRefreshCmd": "print(var_dic_list())"
    },
    "r": {
     "delete_cmd_postfix": ") ",
     "delete_cmd_prefix": "rm(",
     "library": "var_list.r",
     "varRefreshCmd": "cat(var_dic_list()) "
    }
   },
   "types_to_exclude": [
    "module",
    "function",
    "builtin_function_or_method",
    "instance",
    "_Feature"
   ],
   "window_display": false
  }
 },
 "nbformat": 4,
 "nbformat_minor": 2
}
